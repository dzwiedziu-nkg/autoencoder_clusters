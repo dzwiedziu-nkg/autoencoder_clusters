{
 "cells": [
  {
   "cell_type": "code",
   "execution_count": 1,
   "outputs": [],
   "source": [
    "import keras\n",
    "from keras import layers\n",
    "from keras import regularizers\n",
    "\n",
    "# This is the size of our encoded representations\n",
    "encoding_dim = 32  # 32 floats -> compression of factor 24.5, assuming the input is 784 floats\n",
    "\n",
    "input_img = keras.Input(shape=(784,))\n",
    "# Add a Dense layer with a L1 activity regularizer\n",
    "encoded = layers.Dense(encoding_dim, activation='relu',\n",
    "                activity_regularizer=regularizers.l1(10e-5))(input_img)\n",
    "decoded = layers.Dense(784, activation='sigmoid')(encoded)\n",
    "\n",
    "autoencoder = keras.Model(input_img, decoded)"
   ],
   "metadata": {
    "collapsed": false,
    "pycharm": {
     "name": "#%%\n"
    }
   }
  },
  {
   "cell_type": "code",
   "execution_count": 2,
   "outputs": [],
   "source": [
    "# This model maps an input to its encoded representation\n",
    "encoder = keras.Model(input_img, encoded)"
   ],
   "metadata": {
    "collapsed": false,
    "pycharm": {
     "name": "#%%\n"
    }
   }
  },
  {
   "cell_type": "code",
   "execution_count": 3,
   "outputs": [],
   "source": [
    "# This is our encoded (32-dimensional) input\n",
    "encoded_input = keras.Input(shape=(encoding_dim,))\n",
    "# Retrieve the last layer of the autoencoder model\n",
    "decoder_layer = autoencoder.layers[-1]\n",
    "# Create the decoder model\n",
    "decoder = keras.Model(encoded_input, decoder_layer(encoded_input))"
   ],
   "metadata": {
    "collapsed": false,
    "pycharm": {
     "name": "#%%\n"
    }
   }
  },
  {
   "cell_type": "code",
   "execution_count": 4,
   "outputs": [],
   "source": [
    "autoencoder.compile(optimizer='adam', loss='binary_crossentropy')"
   ],
   "metadata": {
    "collapsed": false,
    "pycharm": {
     "name": "#%%\n"
    }
   }
  },
  {
   "cell_type": "code",
   "execution_count": 5,
   "outputs": [],
   "source": [
    "from keras.datasets import mnist\n",
    "import numpy as np\n",
    "(x_train, _), (x_test, _) = mnist.load_data()"
   ],
   "metadata": {
    "collapsed": false,
    "pycharm": {
     "name": "#%%\n"
    }
   }
  },
  {
   "cell_type": "code",
   "execution_count": 6,
   "outputs": [
    {
     "name": "stdout",
     "output_type": "stream",
     "text": [
      "(60000, 784)\n",
      "(10000, 784)\n"
     ]
    }
   ],
   "source": [
    "x_train = x_train.astype('float32') / 255.\n",
    "x_test = x_test.astype('float32') / 255.\n",
    "x_train = x_train.reshape((len(x_train), np.prod(x_train.shape[1:])))\n",
    "x_test = x_test.reshape((len(x_test), np.prod(x_test.shape[1:])))\n",
    "print(x_train.shape)\n",
    "print(x_test.shape)"
   ],
   "metadata": {
    "collapsed": false,
    "pycharm": {
     "name": "#%%\n"
    }
   }
  },
  {
   "cell_type": "code",
   "execution_count": 7,
   "outputs": [
    {
     "name": "stdout",
     "output_type": "stream",
     "text": [
      "Epoch 1/100\n",
      "235/235 [==============================] - 4s 9ms/step - loss: 0.2849 - val_loss: 0.1997\n",
      "Epoch 2/100\n",
      "235/235 [==============================] - 2s 7ms/step - loss: 0.1801 - val_loss: 0.1628\n",
      "Epoch 3/100\n",
      "235/235 [==============================] - 2s 8ms/step - loss: 0.1536 - val_loss: 0.1435\n",
      "Epoch 4/100\n",
      "235/235 [==============================] - 2s 7ms/step - loss: 0.1388 - val_loss: 0.1322\n",
      "Epoch 5/100\n",
      "235/235 [==============================] - 2s 7ms/step - loss: 0.1286 - val_loss: 0.1226\n",
      "Epoch 6/100\n",
      "235/235 [==============================] - 2s 8ms/step - loss: 0.1208 - val_loss: 0.1165\n",
      "Epoch 7/100\n",
      "235/235 [==============================] - 2s 9ms/step - loss: 0.1158 - val_loss: 0.1125\n",
      "Epoch 8/100\n",
      "235/235 [==============================] - 2s 9ms/step - loss: 0.1124 - val_loss: 0.1098\n",
      "Epoch 9/100\n",
      "235/235 [==============================] - 2s 9ms/step - loss: 0.1101 - val_loss: 0.1079\n",
      "Epoch 10/100\n",
      "235/235 [==============================] - 2s 9ms/step - loss: 0.1086 - val_loss: 0.1066\n",
      "Epoch 11/100\n",
      "235/235 [==============================] - 2s 9ms/step - loss: 0.1075 - val_loss: 0.1059\n",
      "Epoch 12/100\n",
      "235/235 [==============================] - 2s 9ms/step - loss: 0.1067 - val_loss: 0.1050\n",
      "Epoch 13/100\n",
      "235/235 [==============================] - 2s 9ms/step - loss: 0.1060 - val_loss: 0.1044\n",
      "Epoch 14/100\n",
      "235/235 [==============================] - 2s 9ms/step - loss: 0.1054 - val_loss: 0.1038\n",
      "Epoch 15/100\n",
      "235/235 [==============================] - 2s 9ms/step - loss: 0.1049 - val_loss: 0.1033\n",
      "Epoch 16/100\n",
      "235/235 [==============================] - 2s 9ms/step - loss: 0.1044 - val_loss: 0.1030\n",
      "Epoch 17/100\n",
      "235/235 [==============================] - 2s 9ms/step - loss: 0.1040 - val_loss: 0.1027\n",
      "Epoch 18/100\n",
      "235/235 [==============================] - 2s 9ms/step - loss: 0.1037 - val_loss: 0.1023\n",
      "Epoch 19/100\n",
      "235/235 [==============================] - 2s 9ms/step - loss: 0.1034 - val_loss: 0.1020\n",
      "Epoch 20/100\n",
      "235/235 [==============================] - 2s 9ms/step - loss: 0.1031 - val_loss: 0.1017\n",
      "Epoch 21/100\n",
      "235/235 [==============================] - 2s 8ms/step - loss: 0.1028 - val_loss: 0.1015\n",
      "Epoch 22/100\n",
      "235/235 [==============================] - 2s 9ms/step - loss: 0.1025 - val_loss: 0.1012\n",
      "Epoch 23/100\n",
      "235/235 [==============================] - 2s 9ms/step - loss: 0.1023 - val_loss: 0.1010\n",
      "Epoch 24/100\n",
      "235/235 [==============================] - 2s 8ms/step - loss: 0.1021 - val_loss: 0.1008\n",
      "Epoch 25/100\n",
      "235/235 [==============================] - 2s 8ms/step - loss: 0.1019 - val_loss: 0.1006\n",
      "Epoch 26/100\n",
      "235/235 [==============================] - 2s 8ms/step - loss: 0.1017 - val_loss: 0.1004\n",
      "Epoch 27/100\n",
      "235/235 [==============================] - 2s 9ms/step - loss: 0.1015 - val_loss: 0.1003\n",
      "Epoch 28/100\n",
      "235/235 [==============================] - 2s 9ms/step - loss: 0.1013 - val_loss: 0.1001\n",
      "Epoch 29/100\n",
      "235/235 [==============================] - 2s 9ms/step - loss: 0.1012 - val_loss: 0.0999\n",
      "Epoch 30/100\n",
      "235/235 [==============================] - 2s 10ms/step - loss: 0.1010 - val_loss: 0.0998\n",
      "Epoch 31/100\n",
      "235/235 [==============================] - 2s 9ms/step - loss: 0.1009 - val_loss: 0.0997\n",
      "Epoch 32/100\n",
      "235/235 [==============================] - 2s 8ms/step - loss: 0.1007 - val_loss: 0.0995\n",
      "Epoch 33/100\n",
      "235/235 [==============================] - 2s 7ms/step - loss: 0.1006 - val_loss: 0.0994\n",
      "Epoch 34/100\n",
      "235/235 [==============================] - 2s 7ms/step - loss: 0.1005 - val_loss: 0.0993\n",
      "Epoch 35/100\n",
      "235/235 [==============================] - 2s 8ms/step - loss: 0.1003 - val_loss: 0.0991\n",
      "Epoch 36/100\n",
      "235/235 [==============================] - 2s 7ms/step - loss: 0.1002 - val_loss: 0.0990\n",
      "Epoch 37/100\n",
      "235/235 [==============================] - 2s 8ms/step - loss: 0.1001 - val_loss: 0.0990\n",
      "Epoch 38/100\n",
      "235/235 [==============================] - 2s 7ms/step - loss: 0.1000 - val_loss: 0.0988\n",
      "Epoch 39/100\n",
      "235/235 [==============================] - 2s 7ms/step - loss: 0.0999 - val_loss: 0.0987\n",
      "Epoch 40/100\n",
      "235/235 [==============================] - 2s 7ms/step - loss: 0.0998 - val_loss: 0.0986\n",
      "Epoch 41/100\n",
      "235/235 [==============================] - 2s 7ms/step - loss: 0.0997 - val_loss: 0.0985\n",
      "Epoch 42/100\n",
      "235/235 [==============================] - 2s 7ms/step - loss: 0.0996 - val_loss: 0.0984\n",
      "Epoch 43/100\n",
      "235/235 [==============================] - 2s 7ms/step - loss: 0.0995 - val_loss: 0.0983\n",
      "Epoch 44/100\n",
      "235/235 [==============================] - 2s 7ms/step - loss: 0.0994 - val_loss: 0.0983\n",
      "Epoch 45/100\n",
      "235/235 [==============================] - 2s 7ms/step - loss: 0.0994 - val_loss: 0.0982\n",
      "Epoch 46/100\n",
      "235/235 [==============================] - 2s 7ms/step - loss: 0.0993 - val_loss: 0.0981\n",
      "Epoch 47/100\n",
      "235/235 [==============================] - 2s 7ms/step - loss: 0.0992 - val_loss: 0.0981\n",
      "Epoch 48/100\n",
      "235/235 [==============================] - 2s 7ms/step - loss: 0.0991 - val_loss: 0.0982\n",
      "Epoch 49/100\n",
      "235/235 [==============================] - 2s 7ms/step - loss: 0.0991 - val_loss: 0.0979\n",
      "Epoch 50/100\n",
      "235/235 [==============================] - 2s 7ms/step - loss: 0.0990 - val_loss: 0.0978\n",
      "Epoch 51/100\n",
      "235/235 [==============================] - 2s 7ms/step - loss: 0.0989 - val_loss: 0.0978\n",
      "Epoch 52/100\n",
      "235/235 [==============================] - 2s 7ms/step - loss: 0.0989 - val_loss: 0.0978\n",
      "Epoch 53/100\n",
      "235/235 [==============================] - 2s 7ms/step - loss: 0.0988 - val_loss: 0.0977\n",
      "Epoch 54/100\n",
      "235/235 [==============================] - 2s 7ms/step - loss: 0.0987 - val_loss: 0.0976\n",
      "Epoch 55/100\n",
      "235/235 [==============================] - 2s 9ms/step - loss: 0.0987 - val_loss: 0.0976\n",
      "Epoch 56/100\n",
      "235/235 [==============================] - 2s 9ms/step - loss: 0.0986 - val_loss: 0.0975\n",
      "Epoch 57/100\n",
      "235/235 [==============================] - 2s 9ms/step - loss: 0.0986 - val_loss: 0.0975\n",
      "Epoch 58/100\n",
      "235/235 [==============================] - 2s 10ms/step - loss: 0.0985 - val_loss: 0.0974\n",
      "Epoch 59/100\n",
      "235/235 [==============================] - 3s 12ms/step - loss: 0.0985 - val_loss: 0.0974\n",
      "Epoch 60/100\n",
      "235/235 [==============================] - 2s 10ms/step - loss: 0.0984 - val_loss: 0.0973\n",
      "Epoch 61/100\n",
      "235/235 [==============================] - 2s 10ms/step - loss: 0.0984 - val_loss: 0.0972\n",
      "Epoch 62/100\n",
      "235/235 [==============================] - 2s 10ms/step - loss: 0.0983 - val_loss: 0.0971\n",
      "Epoch 63/100\n",
      "235/235 [==============================] - 2s 9ms/step - loss: 0.0982 - val_loss: 0.0971\n",
      "Epoch 64/100\n",
      "235/235 [==============================] - 2s 8ms/step - loss: 0.0982 - val_loss: 0.0971\n",
      "Epoch 65/100\n",
      "235/235 [==============================] - 2s 8ms/step - loss: 0.0982 - val_loss: 0.0971\n",
      "Epoch 66/100\n",
      "235/235 [==============================] - 2s 7ms/step - loss: 0.0981 - val_loss: 0.0970\n",
      "Epoch 67/100\n",
      "235/235 [==============================] - 2s 7ms/step - loss: 0.0981 - val_loss: 0.0970\n",
      "Epoch 68/100\n",
      "235/235 [==============================] - 2s 8ms/step - loss: 0.0980 - val_loss: 0.0969\n",
      "Epoch 69/100\n",
      "235/235 [==============================] - 2s 7ms/step - loss: 0.0980 - val_loss: 0.0969\n",
      "Epoch 70/100\n",
      "235/235 [==============================] - 2s 7ms/step - loss: 0.0979 - val_loss: 0.0969\n",
      "Epoch 71/100\n",
      "235/235 [==============================] - 2s 7ms/step - loss: 0.0979 - val_loss: 0.0968\n",
      "Epoch 72/100\n",
      "235/235 [==============================] - 2s 8ms/step - loss: 0.0979 - val_loss: 0.0968\n",
      "Epoch 73/100\n",
      "235/235 [==============================] - 2s 7ms/step - loss: 0.0978 - val_loss: 0.0968\n",
      "Epoch 74/100\n",
      "235/235 [==============================] - 2s 8ms/step - loss: 0.0978 - val_loss: 0.0967\n",
      "Epoch 75/100\n",
      "235/235 [==============================] - 2s 8ms/step - loss: 0.0977 - val_loss: 0.0967\n",
      "Epoch 76/100\n",
      "235/235 [==============================] - 2s 9ms/step - loss: 0.0977 - val_loss: 0.0966\n",
      "Epoch 77/100\n",
      "235/235 [==============================] - 2s 9ms/step - loss: 0.0977 - val_loss: 0.0966\n",
      "Epoch 78/100\n",
      "235/235 [==============================] - 2s 9ms/step - loss: 0.0976 - val_loss: 0.0966\n",
      "Epoch 79/100\n",
      "235/235 [==============================] - 2s 8ms/step - loss: 0.0976 - val_loss: 0.0965\n",
      "Epoch 80/100\n",
      "235/235 [==============================] - 3s 11ms/step - loss: 0.0976 - val_loss: 0.0965\n",
      "Epoch 81/100\n",
      "235/235 [==============================] - 3s 13ms/step - loss: 0.0975 - val_loss: 0.0965\n",
      "Epoch 82/100\n",
      "235/235 [==============================] - 3s 11ms/step - loss: 0.0975 - val_loss: 0.0966\n",
      "Epoch 83/100\n",
      "235/235 [==============================] - 2s 8ms/step - loss: 0.0975 - val_loss: 0.0964\n",
      "Epoch 84/100\n",
      "235/235 [==============================] - 2s 8ms/step - loss: 0.0974 - val_loss: 0.0965\n",
      "Epoch 85/100\n",
      "235/235 [==============================] - 2s 8ms/step - loss: 0.0974 - val_loss: 0.0963\n",
      "Epoch 86/100\n",
      "235/235 [==============================] - 2s 7ms/step - loss: 0.0974 - val_loss: 0.0963\n",
      "Epoch 87/100\n",
      "235/235 [==============================] - 2s 7ms/step - loss: 0.0973 - val_loss: 0.0962\n",
      "Epoch 88/100\n",
      "235/235 [==============================] - 2s 7ms/step - loss: 0.0973 - val_loss: 0.0963\n",
      "Epoch 89/100\n",
      "235/235 [==============================] - 2s 7ms/step - loss: 0.0973 - val_loss: 0.0961\n",
      "Epoch 90/100\n",
      "235/235 [==============================] - 2s 7ms/step - loss: 0.0972 - val_loss: 0.0962\n",
      "Epoch 91/100\n",
      "235/235 [==============================] - 2s 8ms/step - loss: 0.0972 - val_loss: 0.0962\n",
      "Epoch 92/100\n",
      "235/235 [==============================] - 2s 7ms/step - loss: 0.0972 - val_loss: 0.0961\n",
      "Epoch 93/100\n",
      "235/235 [==============================] - 2s 7ms/step - loss: 0.0972 - val_loss: 0.0960\n",
      "Epoch 94/100\n",
      "235/235 [==============================] - 2s 7ms/step - loss: 0.0971 - val_loss: 0.0961\n",
      "Epoch 95/100\n",
      "235/235 [==============================] - 2s 7ms/step - loss: 0.0971 - val_loss: 0.0960\n",
      "Epoch 96/100\n",
      "235/235 [==============================] - 2s 7ms/step - loss: 0.0971 - val_loss: 0.0960\n",
      "Epoch 97/100\n",
      "235/235 [==============================] - 2s 7ms/step - loss: 0.0970 - val_loss: 0.0960\n",
      "Epoch 98/100\n",
      "235/235 [==============================] - 2s 7ms/step - loss: 0.0970 - val_loss: 0.0961\n",
      "Epoch 99/100\n",
      "235/235 [==============================] - 2s 7ms/step - loss: 0.0970 - val_loss: 0.0959\n",
      "Epoch 100/100\n",
      "235/235 [==============================] - 2s 7ms/step - loss: 0.0970 - val_loss: 0.0960\n"
     ]
    },
    {
     "data": {
      "text/plain": "<keras.callbacks.History at 0x227919d39d0>"
     },
     "execution_count": 7,
     "metadata": {},
     "output_type": "execute_result"
    }
   ],
   "source": [
    "autoencoder.fit(x_train, x_train,\n",
    "                epochs=100,\n",
    "                batch_size=256,\n",
    "                shuffle=True,\n",
    "                validation_data=(x_test, x_test))"
   ],
   "metadata": {
    "collapsed": false,
    "pycharm": {
     "name": "#%%\n"
    }
   }
  },
  {
   "cell_type": "code",
   "execution_count": 8,
   "outputs": [
    {
     "name": "stdout",
     "output_type": "stream",
     "text": [
      "313/313 [==============================] - 1s 2ms/step\n",
      "313/313 [==============================] - 1s 2ms/step\n"
     ]
    }
   ],
   "source": [
    "# Encode and decode some digits\n",
    "# Note that we take them from the *test* set\n",
    "encoded_imgs = encoder.predict(x_test)\n",
    "decoded_imgs = decoder.predict(encoded_imgs)"
   ],
   "metadata": {
    "collapsed": false,
    "pycharm": {
     "name": "#%%\n"
    }
   }
  },
  {
   "cell_type": "code",
   "execution_count": 9,
   "outputs": [
    {
     "data": {
      "text/plain": "<Figure size 2000x400 with 20 Axes>",
      "image/png": "[encoded data removed]"
     },
     "metadata": {},
     "output_type": "display_data"
    }
   ],
   "source": [
    "# Use Matplotlib (don't ask)\n",
    "import matplotlib.pyplot as plt\n",
    "\n",
    "n = 10  # How many digits we will display\n",
    "plt.figure(figsize=(20, 4))\n",
    "for i in range(n):\n",
    "    # Display original\n",
    "    ax = plt.subplot(2, n, i + 1)\n",
    "    plt.imshow(x_test[i].reshape(28, 28))\n",
    "    plt.gray()\n",
    "    ax.get_xaxis().set_visible(False)\n",
    "    ax.get_yaxis().set_visible(False)\n",
    "\n",
    "    # Display reconstruction\n",
    "    ax = plt.subplot(2, n, i + 1 + n)\n",
    "    plt.imshow(decoded_imgs[i].reshape(28, 28))\n",
    "    plt.gray()\n",
    "    ax.get_xaxis().set_visible(False)\n",
    "    ax.get_yaxis().set_visible(False)\n",
    "plt.show()"
   ],
   "metadata": {
    "collapsed": false,
    "pycharm": {
     "name": "#%%\n"
    }
   }
  }
 ],
 "metadata": {
  "kernelspec": {
   "display_name": "Python 3",
   "language": "python",
   "name": "python3"
  },
  "language_info": {
   "codemirror_mode": {
    "name": "ipython",
    "version": 2
   },
   "file_extension": ".py",
   "mimetype": "text/x-python",
   "name": "python",
   "nbconvert_exporter": "python",
   "pygments_lexer": "ipython2",
   "version": "2.7.6"
  }
 },
 "nbformat": 4,
 "nbformat_minor": 0
}