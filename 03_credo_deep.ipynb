{
 "cells": [
  {
   "cell_type": "code",
   "execution_count": 1,
   "outputs": [],
   "source": [
    "import keras\n",
    "from keras import layers\n",
    "from keras import regularizers\n",
    "\n",
    "# This is the size of our encoded representations\n",
    "encoding_dim = 32  # 32 floats -> compression of factor 24.5, assuming the input is 784 floats\n",
    "\n",
    "input_img = keras.Input(shape=(784,))\n",
    "encoded = layers.Dense(128, activation='relu')(input_img)\n",
    "encoded = layers.Dense(64, activation='relu')(encoded)\n",
    "encoded = layers.Dense(32, activation='relu')(encoded)\n",
    "\n",
    "decoded = layers.Dense(64, activation='relu')(encoded)\n",
    "decoded = layers.Dense(128, activation='relu')(decoded)\n",
    "decoded = layers.Dense(784, activation='sigmoid')(decoded)\n",
    "\n",
    "autoencoder = keras.Model(input_img, decoded)"
   ],
   "metadata": {
    "collapsed": false,
    "pycharm": {
     "name": "#%%\n"
    }
   }
  },
  {
   "cell_type": "code",
   "execution_count": 2,
   "outputs": [],
   "source": [
    "# This model maps an input to its encoded representation\n",
    "encoder = keras.Model(input_img, encoded)"
   ],
   "metadata": {
    "collapsed": false,
    "pycharm": {
     "name": "#%%\n"
    }
   }
  },
  {
   "cell_type": "code",
   "execution_count": 3,
   "outputs": [],
   "source": [
    "# This is our encoded (32-dimensional) input\n",
    "encoded_input = keras.Input(shape=(encoding_dim,))\n",
    "# Retrieve the last layer of the autoencoder model\n",
    "decoder1 = autoencoder.layers[-3]\n",
    "decoder2 = autoencoder.layers[-2]\n",
    "decoder3 = autoencoder.layers[-1]\n",
    "# Create the decoder model\n",
    "decoder = keras.Model(encoded_input, decoder3(decoder2(decoder1(encoded_input))))"
   ],
   "metadata": {
    "collapsed": false,
    "pycharm": {
     "name": "#%%\n"
    }
   }
  },
  {
   "cell_type": "code",
   "execution_count": 4,
   "outputs": [],
   "source": [
    "autoencoder.compile(optimizer='adam', loss='binary_crossentropy')"
   ],
   "metadata": {
    "collapsed": false,
    "pycharm": {
     "name": "#%%\n"
    }
   }
  },
  {
   "cell_type": "code",
   "execution_count": 5,
   "outputs": [],
   "source": [
    "from credo import load_data\n",
    "import numpy as np\n",
    "(x_train, _), (x_test, _) = load_data(use_worms=True)"
   ],
   "metadata": {
    "collapsed": false,
    "pycharm": {
     "name": "#%%\n"
    }
   }
  },
  {
   "cell_type": "code",
   "execution_count": 6,
   "outputs": [
    {
     "name": "stdout",
     "output_type": "stream",
     "text": [
      "(10912, 784)\n",
      "(496, 784)\n"
     ]
    }
   ],
   "source": [
    "x_train = x_train.astype('float32') / 255.\n",
    "x_test = x_test.astype('float32') / 255.\n",
    "x_train = x_train.reshape((len(x_train), np.prod(x_train.shape[1:])))\n",
    "x_test = x_test.reshape((len(x_test), np.prod(x_test.shape[1:])))\n",
    "print(x_train.shape)\n",
    "print(x_test.shape)"
   ],
   "metadata": {
    "collapsed": false,
    "pycharm": {
     "name": "#%%\n"
    }
   }
  },
  {
   "cell_type": "code",
   "execution_count": 7,
   "outputs": [
    {
     "name": "stdout",
     "output_type": "stream",
     "text": [
      "Epoch 1/100\n",
      "43/43 [==============================] - 2s 12ms/step - loss: 0.3495 - val_loss: 0.0874\n",
      "Epoch 2/100\n",
      "43/43 [==============================] - 0s 7ms/step - loss: 0.0726 - val_loss: 0.0661\n",
      "Epoch 3/100\n",
      "43/43 [==============================] - 0s 6ms/step - loss: 0.0606 - val_loss: 0.0561\n",
      "Epoch 4/100\n",
      "43/43 [==============================] - 0s 7ms/step - loss: 0.0524 - val_loss: 0.0497\n",
      "Epoch 5/100\n",
      "43/43 [==============================] - 0s 8ms/step - loss: 0.0483 - val_loss: 0.0472\n",
      "Epoch 6/100\n",
      "43/43 [==============================] - 0s 7ms/step - loss: 0.0468 - val_loss: 0.0466\n",
      "Epoch 7/100\n",
      "43/43 [==============================] - 0s 6ms/step - loss: 0.0463 - val_loss: 0.0460\n",
      "Epoch 8/100\n",
      "43/43 [==============================] - 0s 6ms/step - loss: 0.0458 - val_loss: 0.0456\n",
      "Epoch 9/100\n",
      "43/43 [==============================] - 0s 8ms/step - loss: 0.0454 - val_loss: 0.0453\n",
      "Epoch 10/100\n",
      "43/43 [==============================] - 0s 6ms/step - loss: 0.0448 - val_loss: 0.0439\n",
      "Epoch 11/100\n",
      "43/43 [==============================] - 0s 6ms/step - loss: 0.0431 - val_loss: 0.0427\n",
      "Epoch 12/100\n",
      "43/43 [==============================] - 0s 7ms/step - loss: 0.0416 - val_loss: 0.0399\n",
      "Epoch 13/100\n",
      "43/43 [==============================] - 0s 7ms/step - loss: 0.0385 - val_loss: 0.0370\n",
      "Epoch 14/100\n",
      "43/43 [==============================] - 0s 7ms/step - loss: 0.0366 - val_loss: 0.0357\n",
      "Epoch 15/100\n",
      "43/43 [==============================] - 0s 7ms/step - loss: 0.0356 - val_loss: 0.0350\n",
      "Epoch 16/100\n",
      "43/43 [==============================] - 0s 8ms/step - loss: 0.0346 - val_loss: 0.0341\n",
      "Epoch 17/100\n",
      "43/43 [==============================] - 0s 9ms/step - loss: 0.0337 - val_loss: 0.0333\n",
      "Epoch 18/100\n",
      "43/43 [==============================] - 0s 6ms/step - loss: 0.0330 - val_loss: 0.0328\n",
      "Epoch 19/100\n",
      "43/43 [==============================] - 0s 7ms/step - loss: 0.0325 - val_loss: 0.0324\n",
      "Epoch 20/100\n",
      "43/43 [==============================] - 0s 7ms/step - loss: 0.0320 - val_loss: 0.0319\n",
      "Epoch 21/100\n",
      "43/43 [==============================] - 0s 7ms/step - loss: 0.0317 - val_loss: 0.0317\n",
      "Epoch 22/100\n",
      "43/43 [==============================] - 0s 6ms/step - loss: 0.0314 - val_loss: 0.0316\n",
      "Epoch 23/100\n",
      "43/43 [==============================] - 0s 7ms/step - loss: 0.0311 - val_loss: 0.0313\n",
      "Epoch 24/100\n",
      "43/43 [==============================] - 0s 7ms/step - loss: 0.0309 - val_loss: 0.0311\n",
      "Epoch 25/100\n",
      "43/43 [==============================] - 0s 6ms/step - loss: 0.0307 - val_loss: 0.0310\n",
      "Epoch 26/100\n",
      "43/43 [==============================] - 0s 7ms/step - loss: 0.0305 - val_loss: 0.0308\n",
      "Epoch 27/100\n",
      "43/43 [==============================] - 0s 6ms/step - loss: 0.0303 - val_loss: 0.0307\n",
      "Epoch 28/100\n",
      "43/43 [==============================] - 0s 7ms/step - loss: 0.0301 - val_loss: 0.0305\n",
      "Epoch 29/100\n",
      "43/43 [==============================] - 0s 7ms/step - loss: 0.0299 - val_loss: 0.0304\n",
      "Epoch 30/100\n",
      "43/43 [==============================] - 0s 7ms/step - loss: 0.0298 - val_loss: 0.0302\n",
      "Epoch 31/100\n",
      "43/43 [==============================] - 0s 7ms/step - loss: 0.0296 - val_loss: 0.0301\n",
      "Epoch 32/100\n",
      "43/43 [==============================] - 0s 8ms/step - loss: 0.0294 - val_loss: 0.0300\n",
      "Epoch 33/100\n",
      "43/43 [==============================] - 0s 7ms/step - loss: 0.0293 - val_loss: 0.0299\n",
      "Epoch 34/100\n",
      "43/43 [==============================] - 0s 7ms/step - loss: 0.0291 - val_loss: 0.0298\n",
      "Epoch 35/100\n",
      "43/43 [==============================] - 0s 8ms/step - loss: 0.0290 - val_loss: 0.0297\n",
      "Epoch 36/100\n",
      "43/43 [==============================] - 0s 10ms/step - loss: 0.0289 - val_loss: 0.0296\n",
      "Epoch 37/100\n",
      "43/43 [==============================] - 0s 10ms/step - loss: 0.0287 - val_loss: 0.0296\n",
      "Epoch 38/100\n",
      "43/43 [==============================] - 0s 7ms/step - loss: 0.0286 - val_loss: 0.0294\n",
      "Epoch 39/100\n",
      "43/43 [==============================] - 0s 6ms/step - loss: 0.0285 - val_loss: 0.0294\n",
      "Epoch 40/100\n",
      "43/43 [==============================] - 0s 8ms/step - loss: 0.0284 - val_loss: 0.0292\n",
      "Epoch 41/100\n",
      "43/43 [==============================] - 0s 8ms/step - loss: 0.0282 - val_loss: 0.0291\n",
      "Epoch 42/100\n",
      "43/43 [==============================] - 0s 8ms/step - loss: 0.0281 - val_loss: 0.0290\n",
      "Epoch 43/100\n",
      "43/43 [==============================] - 0s 9ms/step - loss: 0.0280 - val_loss: 0.0290\n",
      "Epoch 44/100\n",
      "43/43 [==============================] - 0s 9ms/step - loss: 0.0279 - val_loss: 0.0288\n",
      "Epoch 45/100\n",
      "43/43 [==============================] - 0s 9ms/step - loss: 0.0278 - val_loss: 0.0288\n",
      "Epoch 46/100\n",
      "43/43 [==============================] - 0s 9ms/step - loss: 0.0277 - val_loss: 0.0287\n",
      "Epoch 47/100\n",
      "43/43 [==============================] - 0s 9ms/step - loss: 0.0275 - val_loss: 0.0286\n",
      "Epoch 48/100\n",
      "43/43 [==============================] - 0s 8ms/step - loss: 0.0274 - val_loss: 0.0285\n",
      "Epoch 49/100\n",
      "43/43 [==============================] - 0s 9ms/step - loss: 0.0273 - val_loss: 0.0284\n",
      "Epoch 50/100\n",
      "43/43 [==============================] - 0s 9ms/step - loss: 0.0271 - val_loss: 0.0283\n",
      "Epoch 51/100\n",
      "43/43 [==============================] - 0s 7ms/step - loss: 0.0270 - val_loss: 0.0282\n",
      "Epoch 52/100\n",
      "43/43 [==============================] - 0s 9ms/step - loss: 0.0269 - val_loss: 0.0281\n",
      "Epoch 53/100\n",
      "43/43 [==============================] - 0s 10ms/step - loss: 0.0268 - val_loss: 0.0280\n",
      "Epoch 54/100\n",
      "43/43 [==============================] - 0s 8ms/step - loss: 0.0267 - val_loss: 0.0279\n",
      "Epoch 55/100\n",
      "43/43 [==============================] - 0s 8ms/step - loss: 0.0265 - val_loss: 0.0280\n",
      "Epoch 56/100\n",
      "43/43 [==============================] - 0s 8ms/step - loss: 0.0264 - val_loss: 0.0278\n",
      "Epoch 57/100\n",
      "43/43 [==============================] - 0s 8ms/step - loss: 0.0264 - val_loss: 0.0278\n",
      "Epoch 58/100\n",
      "43/43 [==============================] - 0s 7ms/step - loss: 0.0263 - val_loss: 0.0277\n",
      "Epoch 59/100\n",
      "43/43 [==============================] - 0s 7ms/step - loss: 0.0262 - val_loss: 0.0277\n",
      "Epoch 60/100\n",
      "43/43 [==============================] - 0s 8ms/step - loss: 0.0261 - val_loss: 0.0276\n",
      "Epoch 61/100\n",
      "43/43 [==============================] - 0s 8ms/step - loss: 0.0260 - val_loss: 0.0276\n",
      "Epoch 62/100\n",
      "43/43 [==============================] - 0s 7ms/step - loss: 0.0259 - val_loss: 0.0275\n",
      "Epoch 63/100\n",
      "43/43 [==============================] - 0s 9ms/step - loss: 0.0258 - val_loss: 0.0275\n",
      "Epoch 64/100\n",
      "43/43 [==============================] - 0s 9ms/step - loss: 0.0258 - val_loss: 0.0274\n",
      "Epoch 65/100\n",
      "43/43 [==============================] - 0s 6ms/step - loss: 0.0257 - val_loss: 0.0274\n",
      "Epoch 66/100\n",
      "43/43 [==============================] - 0s 7ms/step - loss: 0.0256 - val_loss: 0.0273\n",
      "Epoch 67/100\n",
      "43/43 [==============================] - 0s 7ms/step - loss: 0.0256 - val_loss: 0.0274\n",
      "Epoch 68/100\n",
      "43/43 [==============================] - 0s 6ms/step - loss: 0.0255 - val_loss: 0.0272\n",
      "Epoch 69/100\n",
      "43/43 [==============================] - 0s 6ms/step - loss: 0.0254 - val_loss: 0.0273\n",
      "Epoch 70/100\n",
      "43/43 [==============================] - 0s 6ms/step - loss: 0.0254 - val_loss: 0.0272\n",
      "Epoch 71/100\n",
      "43/43 [==============================] - 0s 6ms/step - loss: 0.0253 - val_loss: 0.0271\n",
      "Epoch 72/100\n",
      "43/43 [==============================] - 0s 6ms/step - loss: 0.0252 - val_loss: 0.0272\n",
      "Epoch 73/100\n",
      "43/43 [==============================] - 0s 6ms/step - loss: 0.0252 - val_loss: 0.0271\n",
      "Epoch 74/100\n",
      "43/43 [==============================] - 0s 6ms/step - loss: 0.0251 - val_loss: 0.0272\n",
      "Epoch 75/100\n",
      "43/43 [==============================] - 0s 6ms/step - loss: 0.0251 - val_loss: 0.0271\n",
      "Epoch 76/100\n",
      "43/43 [==============================] - 0s 7ms/step - loss: 0.0250 - val_loss: 0.0271\n",
      "Epoch 77/100\n",
      "43/43 [==============================] - 0s 7ms/step - loss: 0.0250 - val_loss: 0.0270\n",
      "Epoch 78/100\n",
      "43/43 [==============================] - 0s 8ms/step - loss: 0.0249 - val_loss: 0.0270\n",
      "Epoch 79/100\n",
      "43/43 [==============================] - 0s 7ms/step - loss: 0.0249 - val_loss: 0.0270\n",
      "Epoch 80/100\n",
      "43/43 [==============================] - 0s 6ms/step - loss: 0.0248 - val_loss: 0.0269\n",
      "Epoch 81/100\n",
      "43/43 [==============================] - 0s 7ms/step - loss: 0.0248 - val_loss: 0.0269\n",
      "Epoch 82/100\n",
      "43/43 [==============================] - 0s 6ms/step - loss: 0.0248 - val_loss: 0.0269\n",
      "Epoch 83/100\n",
      "43/43 [==============================] - 0s 7ms/step - loss: 0.0247 - val_loss: 0.0269\n",
      "Epoch 84/100\n",
      "43/43 [==============================] - 0s 6ms/step - loss: 0.0246 - val_loss: 0.0269\n",
      "Epoch 85/100\n",
      "43/43 [==============================] - 0s 6ms/step - loss: 0.0246 - val_loss: 0.0269\n",
      "Epoch 86/100\n",
      "43/43 [==============================] - 0s 6ms/step - loss: 0.0246 - val_loss: 0.0268\n",
      "Epoch 87/100\n",
      "43/43 [==============================] - 0s 6ms/step - loss: 0.0245 - val_loss: 0.0270\n",
      "Epoch 88/100\n",
      "43/43 [==============================] - 0s 6ms/step - loss: 0.0245 - val_loss: 0.0269\n",
      "Epoch 89/100\n",
      "43/43 [==============================] - 0s 6ms/step - loss: 0.0245 - val_loss: 0.0269\n",
      "Epoch 90/100\n",
      "43/43 [==============================] - 0s 6ms/step - loss: 0.0244 - val_loss: 0.0269\n",
      "Epoch 91/100\n",
      "43/43 [==============================] - 0s 6ms/step - loss: 0.0244 - val_loss: 0.0269\n",
      "Epoch 92/100\n",
      "43/43 [==============================] - 0s 6ms/step - loss: 0.0243 - val_loss: 0.0269\n",
      "Epoch 93/100\n",
      "43/43 [==============================] - 0s 6ms/step - loss: 0.0243 - val_loss: 0.0269\n",
      "Epoch 94/100\n",
      "43/43 [==============================] - 0s 6ms/step - loss: 0.0243 - val_loss: 0.0269\n",
      "Epoch 95/100\n",
      "43/43 [==============================] - 0s 7ms/step - loss: 0.0242 - val_loss: 0.0268\n",
      "Epoch 96/100\n",
      "43/43 [==============================] - 0s 7ms/step - loss: 0.0242 - val_loss: 0.0269\n",
      "Epoch 97/100\n",
      "43/43 [==============================] - 0s 6ms/step - loss: 0.0242 - val_loss: 0.0269\n",
      "Epoch 98/100\n",
      "43/43 [==============================] - 0s 6ms/step - loss: 0.0242 - val_loss: 0.0269\n",
      "Epoch 99/100\n",
      "43/43 [==============================] - 0s 6ms/step - loss: 0.0241 - val_loss: 0.0269\n",
      "Epoch 100/100\n",
      "43/43 [==============================] - 0s 6ms/step - loss: 0.0241 - val_loss: 0.0269\n"
     ]
    },
    {
     "data": {
      "text/plain": "<keras.callbacks.History at 0x1af50cab7f0>"
     },
     "execution_count": 7,
     "metadata": {},
     "output_type": "execute_result"
    }
   ],
   "source": [
    "autoencoder.fit(x_train, x_train,\n",
    "                epochs=100,\n",
    "                batch_size=256,\n",
    "                shuffle=True,\n",
    "                validation_data=(x_test, x_test))"
   ],
   "metadata": {
    "collapsed": false,
    "pycharm": {
     "name": "#%%\n"
    }
   }
  },
  {
   "cell_type": "code",
   "execution_count": 8,
   "outputs": [
    {
     "name": "stdout",
     "output_type": "stream",
     "text": [
      "16/16 [==============================] - 0s 1ms/step\n",
      "16/16 [==============================] - 0s 1ms/step\n"
     ]
    }
   ],
   "source": [
    "# Encode and decode some digits\n",
    "# Note that we take them from the *test* set\n",
    "encoded_imgs = encoder.predict(x_test)\n",
    "decoded_imgs = decoder.predict(encoded_imgs)"
   ],
   "metadata": {
    "collapsed": false,
    "pycharm": {
     "name": "#%%\n"
    }
   }
  },
  {
   "cell_type": "code",
   "execution_count": 9,
   "outputs": [
    {
     "data": {
      "text/plain": "<Figure size 2000x400 with 20 Axes>",
      "image/png": "[encoded data removed]"
     },
     "metadata": {},
     "output_type": "display_data"
    }
   ],
   "source": [
    "# Use Matplotlib (don't ask)\n",
    "import matplotlib.pyplot as plt\n",
    "\n",
    "n = 10  # How many digits we will display\n",
    "plt.figure(figsize=(20, 4))\n",
    "for i in range(n):\n",
    "    # Display original\n",
    "    ax = plt.subplot(2, n, i + 1)\n",
    "    plt.imshow(x_test[i].reshape(28, 28))\n",
    "    plt.gray()\n",
    "    ax.get_xaxis().set_visible(False)\n",
    "    ax.get_yaxis().set_visible(False)\n",
    "\n",
    "    # Display reconstruction\n",
    "    ax = plt.subplot(2, n, i + 1 + n)\n",
    "    plt.imshow(decoded_imgs[i].reshape(28, 28))\n",
    "    plt.gray()\n",
    "    ax.get_xaxis().set_visible(False)\n",
    "    ax.get_yaxis().set_visible(False)\n",
    "plt.show()"
   ],
   "metadata": {
    "collapsed": false,
    "pycharm": {
     "name": "#%%\n"
    }
   }
  }
 ],
 "metadata": {
  "kernelspec": {
   "display_name": "Python 3",
   "language": "python",
   "name": "python3"
  },
  "language_info": {
   "codemirror_mode": {
    "name": "ipython",
    "version": 2
   },
   "file_extension": ".py",
   "mimetype": "text/x-python",
   "name": "python",
   "nbconvert_exporter": "python",
   "pygments_lexer": "ipython2",
   "version": "2.7.6"
  }
 },
 "nbformat": 4,
 "nbformat_minor": 0
}