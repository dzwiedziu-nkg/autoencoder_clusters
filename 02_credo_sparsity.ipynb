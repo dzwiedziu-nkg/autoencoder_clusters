{
 "cells": [
  {
   "cell_type": "code",
   "execution_count": 1,
   "outputs": [],
   "source": [
    "import keras\n",
    "from keras import layers\n",
    "from keras import regularizers\n",
    "\n",
    "# This is the size of our encoded representations\n",
    "encoding_dim = 32  # 32 floats -> compression of factor 24.5, assuming the input is 784 floats\n",
    "\n",
    "input_img = keras.Input(shape=(784,))\n",
    "# Add a Dense layer with a L1 activity regularizer\n",
    "encoded = layers.Dense(encoding_dim, activation='relu',\n",
    "                activity_regularizer=regularizers.l1(10e-5))(input_img)\n",
    "decoded = layers.Dense(784, activation='sigmoid')(encoded)\n",
    "\n",
    "autoencoder = keras.Model(input_img, decoded)"
   ],
   "metadata": {
    "collapsed": false,
    "pycharm": {
     "name": "#%%\n"
    }
   }
  },
  {
   "cell_type": "code",
   "execution_count": 2,
   "outputs": [],
   "source": [
    "# This model maps an input to its encoded representation\n",
    "encoder = keras.Model(input_img, encoded)"
   ],
   "metadata": {
    "collapsed": false,
    "pycharm": {
     "name": "#%%\n"
    }
   }
  },
  {
   "cell_type": "code",
   "execution_count": 3,
   "outputs": [],
   "source": [
    "# This is our encoded (32-dimensional) input\n",
    "encoded_input = keras.Input(shape=(encoding_dim,))\n",
    "# Retrieve the last layer of the autoencoder model\n",
    "decoder_layer = autoencoder.layers[-1]\n",
    "# Create the decoder model\n",
    "decoder = keras.Model(encoded_input, decoder_layer(encoded_input))"
   ],
   "metadata": {
    "collapsed": false,
    "pycharm": {
     "name": "#%%\n"
    }
   }
  },
  {
   "cell_type": "code",
   "execution_count": 4,
   "outputs": [],
   "source": [
    "autoencoder.compile(optimizer='adam', loss='binary_crossentropy')"
   ],
   "metadata": {
    "collapsed": false,
    "pycharm": {
     "name": "#%%\n"
    }
   }
  },
  {
   "cell_type": "code",
   "execution_count": 5,
   "outputs": [],
   "source": [
    "from credo import load_data\n",
    "import numpy as np\n",
    "(x_train, _), (x_test, _) = load_data(use_worms=True)"
   ],
   "metadata": {
    "collapsed": false,
    "pycharm": {
     "name": "#%%\n"
    }
   }
  },
  {
   "cell_type": "code",
   "execution_count": 6,
   "outputs": [
    {
     "name": "stdout",
     "output_type": "stream",
     "text": [
      "(10912, 784)\n",
      "(496, 784)\n"
     ]
    }
   ],
   "source": [
    "x_train = x_train.astype('float32') / 255.\n",
    "x_test = x_test.astype('float32') / 255.\n",
    "x_train = x_train.reshape((len(x_train), np.prod(x_train.shape[1:])))\n",
    "x_test = x_test.reshape((len(x_test), np.prod(x_test.shape[1:])))\n",
    "print(x_train.shape)\n",
    "print(x_test.shape)"
   ],
   "metadata": {
    "collapsed": false,
    "pycharm": {
     "name": "#%%\n"
    }
   }
  },
  {
   "cell_type": "code",
   "execution_count": 7,
   "outputs": [
    {
     "name": "stdout",
     "output_type": "stream",
     "text": [
      "Epoch 1/100\n",
      "43/43 [==============================] - 1s 9ms/step - loss: 0.6046 - val_loss: 0.4189\n",
      "Epoch 2/100\n",
      "43/43 [==============================] - 0s 5ms/step - loss: 0.2534 - val_loss: 0.1518\n",
      "Epoch 3/100\n",
      "43/43 [==============================] - 0s 5ms/step - loss: 0.1230 - val_loss: 0.1064\n",
      "Epoch 4/100\n",
      "43/43 [==============================] - 0s 5ms/step - loss: 0.0985 - val_loss: 0.0936\n",
      "Epoch 5/100\n",
      "43/43 [==============================] - 0s 6ms/step - loss: 0.0900 - val_loss: 0.0879\n",
      "Epoch 6/100\n",
      "43/43 [==============================] - 0s 5ms/step - loss: 0.0855 - val_loss: 0.0842\n",
      "Epoch 7/100\n",
      "43/43 [==============================] - 0s 6ms/step - loss: 0.0825 - val_loss: 0.0817\n",
      "Epoch 8/100\n",
      "43/43 [==============================] - 0s 6ms/step - loss: 0.0802 - val_loss: 0.0796\n",
      "Epoch 9/100\n",
      "43/43 [==============================] - 0s 6ms/step - loss: 0.0782 - val_loss: 0.0777\n",
      "Epoch 10/100\n",
      "43/43 [==============================] - 0s 5ms/step - loss: 0.0764 - val_loss: 0.0759\n",
      "Epoch 11/100\n",
      "43/43 [==============================] - 0s 5ms/step - loss: 0.0746 - val_loss: 0.0742\n",
      "Epoch 12/100\n",
      "43/43 [==============================] - 0s 5ms/step - loss: 0.0728 - val_loss: 0.0723\n",
      "Epoch 13/100\n",
      "43/43 [==============================] - 0s 5ms/step - loss: 0.0710 - val_loss: 0.0706\n",
      "Epoch 14/100\n",
      "43/43 [==============================] - 0s 5ms/step - loss: 0.0693 - val_loss: 0.0689\n",
      "Epoch 15/100\n",
      "43/43 [==============================] - 0s 5ms/step - loss: 0.0675 - val_loss: 0.0672\n",
      "Epoch 16/100\n",
      "43/43 [==============================] - 0s 6ms/step - loss: 0.0658 - val_loss: 0.0654\n",
      "Epoch 17/100\n",
      "43/43 [==============================] - 0s 5ms/step - loss: 0.0641 - val_loss: 0.0637\n",
      "Epoch 18/100\n",
      "43/43 [==============================] - 0s 5ms/step - loss: 0.0624 - val_loss: 0.0620\n",
      "Epoch 19/100\n",
      "43/43 [==============================] - 0s 5ms/step - loss: 0.0607 - val_loss: 0.0604\n",
      "Epoch 20/100\n",
      "43/43 [==============================] - 0s 6ms/step - loss: 0.0591 - val_loss: 0.0588\n",
      "Epoch 21/100\n",
      "43/43 [==============================] - 0s 6ms/step - loss: 0.0575 - val_loss: 0.0572\n",
      "Epoch 22/100\n",
      "43/43 [==============================] - 0s 7ms/step - loss: 0.0560 - val_loss: 0.0557\n",
      "Epoch 23/100\n",
      "43/43 [==============================] - 0s 8ms/step - loss: 0.0545 - val_loss: 0.0542\n",
      "Epoch 24/100\n",
      "43/43 [==============================] - 0s 6ms/step - loss: 0.0531 - val_loss: 0.0528\n",
      "Epoch 25/100\n",
      "43/43 [==============================] - 0s 6ms/step - loss: 0.0518 - val_loss: 0.0515\n",
      "Epoch 26/100\n",
      "43/43 [==============================] - 0s 7ms/step - loss: 0.0505 - val_loss: 0.0503\n",
      "Epoch 27/100\n",
      "43/43 [==============================] - 0s 6ms/step - loss: 0.0493 - val_loss: 0.0491\n",
      "Epoch 28/100\n",
      "43/43 [==============================] - 0s 7ms/step - loss: 0.0483 - val_loss: 0.0480\n",
      "Epoch 29/100\n",
      "43/43 [==============================] - 0s 9ms/step - loss: 0.0473 - val_loss: 0.0470\n",
      "Epoch 30/100\n",
      "43/43 [==============================] - 0s 7ms/step - loss: 0.0463 - val_loss: 0.0461\n",
      "Epoch 31/100\n",
      "43/43 [==============================] - 0s 8ms/step - loss: 0.0455 - val_loss: 0.0453\n",
      "Epoch 32/100\n",
      "43/43 [==============================] - 0s 7ms/step - loss: 0.0447 - val_loss: 0.0445\n",
      "Epoch 33/100\n",
      "43/43 [==============================] - 0s 7ms/step - loss: 0.0439 - val_loss: 0.0438\n",
      "Epoch 34/100\n",
      "43/43 [==============================] - 0s 6ms/step - loss: 0.0433 - val_loss: 0.0431\n",
      "Epoch 35/100\n",
      "43/43 [==============================] - 0s 6ms/step - loss: 0.0426 - val_loss: 0.0425\n",
      "Epoch 36/100\n",
      "43/43 [==============================] - 0s 6ms/step - loss: 0.0420 - val_loss: 0.0419\n",
      "Epoch 37/100\n",
      "43/43 [==============================] - 0s 6ms/step - loss: 0.0415 - val_loss: 0.0414\n",
      "Epoch 38/100\n",
      "43/43 [==============================] - 0s 5ms/step - loss: 0.0410 - val_loss: 0.0409\n",
      "Epoch 39/100\n",
      "43/43 [==============================] - 0s 6ms/step - loss: 0.0405 - val_loss: 0.0404\n",
      "Epoch 40/100\n",
      "43/43 [==============================] - 0s 5ms/step - loss: 0.0401 - val_loss: 0.0400\n",
      "Epoch 41/100\n",
      "43/43 [==============================] - 0s 6ms/step - loss: 0.0397 - val_loss: 0.0395\n",
      "Epoch 42/100\n",
      "43/43 [==============================] - 0s 6ms/step - loss: 0.0393 - val_loss: 0.0392\n",
      "Epoch 43/100\n",
      "43/43 [==============================] - 0s 5ms/step - loss: 0.0389 - val_loss: 0.0388\n",
      "Epoch 44/100\n",
      "43/43 [==============================] - 0s 5ms/step - loss: 0.0385 - val_loss: 0.0385\n",
      "Epoch 45/100\n",
      "43/43 [==============================] - 0s 5ms/step - loss: 0.0382 - val_loss: 0.0381\n",
      "Epoch 46/100\n",
      "43/43 [==============================] - 0s 5ms/step - loss: 0.0379 - val_loss: 0.0378\n",
      "Epoch 47/100\n",
      "43/43 [==============================] - 0s 6ms/step - loss: 0.0376 - val_loss: 0.0375\n",
      "Epoch 48/100\n",
      "43/43 [==============================] - 0s 6ms/step - loss: 0.0373 - val_loss: 0.0373\n",
      "Epoch 49/100\n",
      "43/43 [==============================] - 0s 5ms/step - loss: 0.0370 - val_loss: 0.0370\n",
      "Epoch 50/100\n",
      "43/43 [==============================] - 0s 5ms/step - loss: 0.0368 - val_loss: 0.0368\n",
      "Epoch 51/100\n",
      "43/43 [==============================] - 0s 5ms/step - loss: 0.0365 - val_loss: 0.0365\n",
      "Epoch 52/100\n",
      "43/43 [==============================] - 0s 5ms/step - loss: 0.0363 - val_loss: 0.0363\n",
      "Epoch 53/100\n",
      "43/43 [==============================] - 0s 5ms/step - loss: 0.0361 - val_loss: 0.0361\n",
      "Epoch 54/100\n",
      "43/43 [==============================] - 0s 6ms/step - loss: 0.0358 - val_loss: 0.0359\n",
      "Epoch 55/100\n",
      "43/43 [==============================] - 0s 5ms/step - loss: 0.0356 - val_loss: 0.0357\n",
      "Epoch 56/100\n",
      "43/43 [==============================] - 0s 7ms/step - loss: 0.0354 - val_loss: 0.0355\n",
      "Epoch 57/100\n",
      "43/43 [==============================] - 0s 6ms/step - loss: 0.0352 - val_loss: 0.0353\n",
      "Epoch 58/100\n",
      "43/43 [==============================] - 0s 6ms/step - loss: 0.0350 - val_loss: 0.0351\n",
      "Epoch 59/100\n",
      "43/43 [==============================] - 0s 5ms/step - loss: 0.0348 - val_loss: 0.0349\n",
      "Epoch 60/100\n",
      "43/43 [==============================] - 0s 5ms/step - loss: 0.0347 - val_loss: 0.0347\n",
      "Epoch 61/100\n",
      "43/43 [==============================] - 0s 7ms/step - loss: 0.0345 - val_loss: 0.0346\n",
      "Epoch 62/100\n",
      "43/43 [==============================] - 0s 6ms/step - loss: 0.0343 - val_loss: 0.0344\n",
      "Epoch 63/100\n",
      "43/43 [==============================] - 0s 6ms/step - loss: 0.0341 - val_loss: 0.0342\n",
      "Epoch 64/100\n",
      "43/43 [==============================] - 0s 5ms/step - loss: 0.0340 - val_loss: 0.0341\n",
      "Epoch 65/100\n",
      "43/43 [==============================] - 0s 7ms/step - loss: 0.0338 - val_loss: 0.0339\n",
      "Epoch 66/100\n",
      "43/43 [==============================] - 0s 5ms/step - loss: 0.0337 - val_loss: 0.0338\n",
      "Epoch 67/100\n",
      "43/43 [==============================] - 0s 5ms/step - loss: 0.0335 - val_loss: 0.0336\n",
      "Epoch 68/100\n",
      "43/43 [==============================] - 0s 6ms/step - loss: 0.0334 - val_loss: 0.0335\n",
      "Epoch 69/100\n",
      "43/43 [==============================] - 0s 6ms/step - loss: 0.0332 - val_loss: 0.0334\n",
      "Epoch 70/100\n",
      "43/43 [==============================] - 0s 5ms/step - loss: 0.0331 - val_loss: 0.0332\n",
      "Epoch 71/100\n",
      "43/43 [==============================] - 0s 6ms/step - loss: 0.0330 - val_loss: 0.0331\n",
      "Epoch 72/100\n",
      "43/43 [==============================] - 0s 7ms/step - loss: 0.0328 - val_loss: 0.0330\n",
      "Epoch 73/100\n",
      "43/43 [==============================] - 0s 5ms/step - loss: 0.0327 - val_loss: 0.0329\n",
      "Epoch 74/100\n",
      "43/43 [==============================] - 0s 5ms/step - loss: 0.0326 - val_loss: 0.0327\n",
      "Epoch 75/100\n",
      "43/43 [==============================] - 0s 6ms/step - loss: 0.0325 - val_loss: 0.0326\n",
      "Epoch 76/100\n",
      "43/43 [==============================] - 0s 5ms/step - loss: 0.0323 - val_loss: 0.0325\n",
      "Epoch 77/100\n",
      "43/43 [==============================] - 0s 5ms/step - loss: 0.0322 - val_loss: 0.0324\n",
      "Epoch 78/100\n",
      "43/43 [==============================] - 0s 6ms/step - loss: 0.0321 - val_loss: 0.0323\n",
      "Epoch 79/100\n",
      "43/43 [==============================] - 0s 5ms/step - loss: 0.0320 - val_loss: 0.0322\n",
      "Epoch 80/100\n",
      "43/43 [==============================] - 0s 5ms/step - loss: 0.0319 - val_loss: 0.0321\n",
      "Epoch 81/100\n",
      "43/43 [==============================] - 0s 7ms/step - loss: 0.0318 - val_loss: 0.0320\n",
      "Epoch 82/100\n",
      "43/43 [==============================] - 0s 6ms/step - loss: 0.0317 - val_loss: 0.0319\n",
      "Epoch 83/100\n",
      "43/43 [==============================] - 0s 5ms/step - loss: 0.0316 - val_loss: 0.0318\n",
      "Epoch 84/100\n",
      "43/43 [==============================] - 0s 5ms/step - loss: 0.0315 - val_loss: 0.0317\n",
      "Epoch 85/100\n",
      "43/43 [==============================] - 0s 5ms/step - loss: 0.0314 - val_loss: 0.0316\n",
      "Epoch 86/100\n",
      "43/43 [==============================] - 0s 6ms/step - loss: 0.0313 - val_loss: 0.0315\n",
      "Epoch 87/100\n",
      "43/43 [==============================] - 0s 6ms/step - loss: 0.0312 - val_loss: 0.0315\n",
      "Epoch 88/100\n",
      "43/43 [==============================] - 0s 5ms/step - loss: 0.0311 - val_loss: 0.0314\n",
      "Epoch 89/100\n",
      "43/43 [==============================] - 0s 5ms/step - loss: 0.0310 - val_loss: 0.0313\n",
      "Epoch 90/100\n",
      "43/43 [==============================] - 0s 5ms/step - loss: 0.0309 - val_loss: 0.0312\n",
      "Epoch 91/100\n",
      "43/43 [==============================] - 0s 5ms/step - loss: 0.0309 - val_loss: 0.0312\n",
      "Epoch 92/100\n",
      "43/43 [==============================] - 0s 5ms/step - loss: 0.0308 - val_loss: 0.0311\n",
      "Epoch 93/100\n",
      "43/43 [==============================] - 0s 6ms/step - loss: 0.0307 - val_loss: 0.0310\n",
      "Epoch 94/100\n",
      "43/43 [==============================] - 0s 6ms/step - loss: 0.0306 - val_loss: 0.0309\n",
      "Epoch 95/100\n",
      "43/43 [==============================] - 0s 6ms/step - loss: 0.0305 - val_loss: 0.0309\n",
      "Epoch 96/100\n",
      "43/43 [==============================] - 0s 7ms/step - loss: 0.0305 - val_loss: 0.0308\n",
      "Epoch 97/100\n",
      "43/43 [==============================] - 0s 6ms/step - loss: 0.0304 - val_loss: 0.0307\n",
      "Epoch 98/100\n",
      "43/43 [==============================] - 0s 6ms/step - loss: 0.0303 - val_loss: 0.0307\n",
      "Epoch 99/100\n",
      "43/43 [==============================] - 0s 6ms/step - loss: 0.0302 - val_loss: 0.0306\n",
      "Epoch 100/100\n",
      "43/43 [==============================] - 0s 6ms/step - loss: 0.0302 - val_loss: 0.0306\n"
     ]
    },
    {
     "data": {
      "text/plain": "<keras.callbacks.History at 0x1652fc0ab30>"
     },
     "execution_count": 7,
     "metadata": {},
     "output_type": "execute_result"
    }
   ],
   "source": [
    "autoencoder.fit(x_train, x_train,\n",
    "                epochs=100,\n",
    "                batch_size=256,\n",
    "                shuffle=True,\n",
    "                validation_data=(x_test, x_test))"
   ],
   "metadata": {
    "collapsed": false,
    "pycharm": {
     "name": "#%%\n"
    }
   }
  },
  {
   "cell_type": "code",
   "execution_count": 8,
   "outputs": [
    {
     "name": "stdout",
     "output_type": "stream",
     "text": [
      "16/16 [==============================] - 0s 1ms/step\n",
      "16/16 [==============================] - 0s 1ms/step\n"
     ]
    }
   ],
   "source": [
    "# Encode and decode some digits\n",
    "# Note that we take them from the *test* set\n",
    "encoded_imgs = encoder.predict(x_test)\n",
    "decoded_imgs = decoder.predict(encoded_imgs)"
   ],
   "metadata": {
    "collapsed": false,
    "pycharm": {
     "name": "#%%\n"
    }
   }
  },
  {
   "cell_type": "code",
   "execution_count": 9,
   "outputs": [
    {
     "data": {
      "text/plain": "<Figure size 2000x400 with 20 Axes>",
      "image/png": "[encoded data removed]"
     },
     "metadata": {},
     "output_type": "display_data"
    }
   ],
   "source": [
    "# Use Matplotlib (don't ask)\n",
    "import matplotlib.pyplot as plt\n",
    "\n",
    "n = 10  # How many digits we will display\n",
    "plt.figure(figsize=(20, 4))\n",
    "for i in range(n):\n",
    "    # Display original\n",
    "    ax = plt.subplot(2, n, i + 1)\n",
    "    plt.imshow(x_test[i].reshape(28, 28))\n",
    "    plt.gray()\n",
    "    ax.get_xaxis().set_visible(False)\n",
    "    ax.get_yaxis().set_visible(False)\n",
    "\n",
    "    # Display reconstruction\n",
    "    ax = plt.subplot(2, n, i + 1 + n)\n",
    "    plt.imshow(decoded_imgs[i].reshape(28, 28))\n",
    "    plt.gray()\n",
    "    ax.get_xaxis().set_visible(False)\n",
    "    ax.get_yaxis().set_visible(False)\n",
    "plt.show()"
   ],
   "metadata": {
    "collapsed": false,
    "pycharm": {
     "name": "#%%\n"
    }
   }
  }
 ],
 "metadata": {
  "kernelspec": {
   "display_name": "Python 3",
   "language": "python",
   "name": "python3"
  },
  "language_info": {
   "codemirror_mode": {
    "name": "ipython",
    "version": 2
   },
   "file_extension": ".py",
   "mimetype": "text/x-python",
   "name": "python",
   "nbconvert_exporter": "python",
   "pygments_lexer": "ipython2",
   "version": "2.7.6"
  }
 },
 "nbformat": 4,
 "nbformat_minor": 0
}