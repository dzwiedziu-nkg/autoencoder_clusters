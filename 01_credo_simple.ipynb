{
 "cells": [
  {
   "cell_type": "code",
   "execution_count": 19,
   "outputs": [],
   "source": [
    "import keras\n",
    "from keras import layers\n",
    "\n",
    "# This is the size of our encoded representations\n",
    "encoding_dim = 32  # 32 floats -> compression of factor 24.5, assuming the input is 784 floats\n",
    "\n",
    "# This is our input image\n",
    "input_img = keras.Input(shape=(784,))\n",
    "# \"encoded\" is the encoded representation of the input\n",
    "encoded = layers.Dense(encoding_dim, activation='relu')(input_img)\n",
    "# \"decoded\" is the lossy reconstruction of the input\n",
    "decoded = layers.Dense(784, activation='sigmoid')(encoded)\n",
    "\n",
    "# This model maps an input to its reconstruction\n",
    "autoencoder = keras.Model(input_img, decoded)"
   ],
   "metadata": {
    "collapsed": false,
    "pycharm": {
     "name": "#%%\n"
    }
   }
  },
  {
   "cell_type": "code",
   "execution_count": 20,
   "outputs": [],
   "source": [
    "# This model maps an input to its encoded representation\n",
    "encoder = keras.Model(input_img, encoded)"
   ],
   "metadata": {
    "collapsed": false,
    "pycharm": {
     "name": "#%%\n"
    }
   }
  },
  {
   "cell_type": "code",
   "execution_count": 21,
   "outputs": [],
   "source": [
    "# This is our encoded (32-dimensional) input\n",
    "encoded_input = keras.Input(shape=(encoding_dim,))\n",
    "# Retrieve the last layer of the autoencoder model\n",
    "decoder_layer = autoencoder.layers[-1]\n",
    "# Create the decoder model\n",
    "decoder = keras.Model(encoded_input, decoder_layer(encoded_input))"
   ],
   "metadata": {
    "collapsed": false,
    "pycharm": {
     "name": "#%%\n"
    }
   }
  },
  {
   "cell_type": "code",
   "execution_count": 22,
   "outputs": [],
   "source": [
    "autoencoder.compile(optimizer='adam', loss='binary_crossentropy')"
   ],
   "metadata": {
    "collapsed": false,
    "pycharm": {
     "name": "#%%\n"
    }
   }
  },
  {
   "cell_type": "code",
   "execution_count": 23,
   "outputs": [],
   "source": [
    "from credo import load_data\n",
    "import numpy as np\n",
    "(x_train, _), (x_test, _) = load_data(use_tracks=False, use_dots=False, use_worms=True)"
   ],
   "metadata": {
    "collapsed": false,
    "pycharm": {
     "name": "#%%\n"
    }
   }
  },
  {
   "cell_type": "code",
   "execution_count": 24,
   "outputs": [
    {
     "name": "stdout",
     "output_type": "stream",
     "text": [
      "(10912, 784)\n",
      "(496, 784)\n"
     ]
    }
   ],
   "source": [
    "x_train = x_train.astype('float32') / 255.\n",
    "x_test = x_test.astype('float32') / 255.\n",
    "x_train = x_train.reshape((len(x_train), np.prod(x_train.shape[1:])))\n",
    "x_test = x_test.reshape((len(x_test), np.prod(x_test.shape[1:])))\n",
    "print(x_train.shape)\n",
    "print(x_test.shape)"
   ],
   "metadata": {
    "collapsed": false,
    "pycharm": {
     "name": "#%%\n"
    }
   }
  },
  {
   "cell_type": "code",
   "execution_count": 25,
   "outputs": [
    {
     "name": "stdout",
     "output_type": "stream",
     "text": [
      "Epoch 1/50\n",
      "43/43 [==============================] - 1s 14ms/step - loss: 0.5995 - val_loss: 0.4129\n",
      "Epoch 2/50\n",
      "43/43 [==============================] - 0s 5ms/step - loss: 0.2490 - val_loss: 0.1491\n",
      "Epoch 3/50\n",
      "43/43 [==============================] - 0s 6ms/step - loss: 0.1193 - val_loss: 0.1029\n",
      "Epoch 4/50\n",
      "43/43 [==============================] - 0s 5ms/step - loss: 0.0945 - val_loss: 0.0899\n",
      "Epoch 5/50\n",
      "43/43 [==============================] - 0s 5ms/step - loss: 0.0859 - val_loss: 0.0840\n",
      "Epoch 6/50\n",
      "43/43 [==============================] - 0s 6ms/step - loss: 0.0814 - val_loss: 0.0804\n",
      "Epoch 7/50\n",
      "43/43 [==============================] - 0s 5ms/step - loss: 0.0785 - val_loss: 0.0779\n",
      "Epoch 8/50\n",
      "43/43 [==============================] - 0s 5ms/step - loss: 0.0762 - val_loss: 0.0758\n",
      "Epoch 9/50\n",
      "43/43 [==============================] - 0s 5ms/step - loss: 0.0743 - val_loss: 0.0740\n",
      "Epoch 10/50\n",
      "43/43 [==============================] - 0s 5ms/step - loss: 0.0726 - val_loss: 0.0724\n",
      "Epoch 11/50\n",
      "43/43 [==============================] - 0s 5ms/step - loss: 0.0710 - val_loss: 0.0707\n",
      "Epoch 12/50\n",
      "43/43 [==============================] - 0s 5ms/step - loss: 0.0694 - val_loss: 0.0691\n",
      "Epoch 13/50\n",
      "43/43 [==============================] - 0s 5ms/step - loss: 0.0678 - val_loss: 0.0676\n",
      "Epoch 14/50\n",
      "43/43 [==============================] - 0s 6ms/step - loss: 0.0662 - val_loss: 0.0659\n",
      "Epoch 15/50\n",
      "43/43 [==============================] - 0s 6ms/step - loss: 0.0646 - val_loss: 0.0643\n",
      "Epoch 16/50\n",
      "43/43 [==============================] - 0s 5ms/step - loss: 0.0630 - val_loss: 0.0627\n",
      "Epoch 17/50\n",
      "43/43 [==============================] - 0s 6ms/step - loss: 0.0614 - val_loss: 0.0611\n",
      "Epoch 18/50\n",
      "43/43 [==============================] - 0s 6ms/step - loss: 0.0598 - val_loss: 0.0595\n",
      "Epoch 19/50\n",
      "43/43 [==============================] - 0s 6ms/step - loss: 0.0582 - val_loss: 0.0579\n",
      "Epoch 20/50\n",
      "43/43 [==============================] - 0s 5ms/step - loss: 0.0567 - val_loss: 0.0564\n",
      "Epoch 21/50\n",
      "43/43 [==============================] - 0s 5ms/step - loss: 0.0552 - val_loss: 0.0549\n",
      "Epoch 22/50\n",
      "43/43 [==============================] - 0s 5ms/step - loss: 0.0538 - val_loss: 0.0535\n",
      "Epoch 23/50\n",
      "43/43 [==============================] - 0s 5ms/step - loss: 0.0524 - val_loss: 0.0521\n",
      "Epoch 24/50\n",
      "43/43 [==============================] - 0s 5ms/step - loss: 0.0511 - val_loss: 0.0508\n",
      "Epoch 25/50\n",
      "43/43 [==============================] - 0s 7ms/step - loss: 0.0498 - val_loss: 0.0495\n",
      "Epoch 26/50\n",
      "43/43 [==============================] - 0s 5ms/step - loss: 0.0486 - val_loss: 0.0484\n",
      "Epoch 27/50\n",
      "43/43 [==============================] - 0s 4ms/step - loss: 0.0475 - val_loss: 0.0472\n",
      "Epoch 28/50\n",
      "43/43 [==============================] - 0s 4ms/step - loss: 0.0464 - val_loss: 0.0462\n",
      "Epoch 29/50\n",
      "43/43 [==============================] - 0s 5ms/step - loss: 0.0454 - val_loss: 0.0452\n",
      "Epoch 30/50\n",
      "43/43 [==============================] - 0s 5ms/step - loss: 0.0444 - val_loss: 0.0443\n",
      "Epoch 31/50\n",
      "43/43 [==============================] - 0s 5ms/step - loss: 0.0436 - val_loss: 0.0434\n",
      "Epoch 32/50\n",
      "43/43 [==============================] - 0s 5ms/step - loss: 0.0427 - val_loss: 0.0426\n",
      "Epoch 33/50\n",
      "43/43 [==============================] - 0s 6ms/step - loss: 0.0420 - val_loss: 0.0418\n",
      "Epoch 34/50\n",
      "43/43 [==============================] - 0s 5ms/step - loss: 0.0412 - val_loss: 0.0412\n",
      "Epoch 35/50\n",
      "43/43 [==============================] - 0s 5ms/step - loss: 0.0406 - val_loss: 0.0405\n",
      "Epoch 36/50\n",
      "43/43 [==============================] - 0s 5ms/step - loss: 0.0399 - val_loss: 0.0399\n",
      "Epoch 37/50\n",
      "43/43 [==============================] - 0s 5ms/step - loss: 0.0394 - val_loss: 0.0393\n",
      "Epoch 38/50\n",
      "43/43 [==============================] - 0s 5ms/step - loss: 0.0388 - val_loss: 0.0388\n",
      "Epoch 39/50\n",
      "43/43 [==============================] - 0s 5ms/step - loss: 0.0383 - val_loss: 0.0383\n",
      "Epoch 40/50\n",
      "43/43 [==============================] - 0s 5ms/step - loss: 0.0378 - val_loss: 0.0378\n",
      "Epoch 41/50\n",
      "43/43 [==============================] - 0s 6ms/step - loss: 0.0374 - val_loss: 0.0373\n",
      "Epoch 42/50\n",
      "43/43 [==============================] - 0s 5ms/step - loss: 0.0369 - val_loss: 0.0369\n",
      "Epoch 43/50\n",
      "43/43 [==============================] - 0s 6ms/step - loss: 0.0365 - val_loss: 0.0365\n",
      "Epoch 44/50\n",
      "43/43 [==============================] - 0s 5ms/step - loss: 0.0361 - val_loss: 0.0361\n",
      "Epoch 45/50\n",
      "43/43 [==============================] - 0s 5ms/step - loss: 0.0358 - val_loss: 0.0358\n",
      "Epoch 46/50\n",
      "43/43 [==============================] - 0s 6ms/step - loss: 0.0354 - val_loss: 0.0355\n",
      "Epoch 47/50\n",
      "43/43 [==============================] - 0s 6ms/step - loss: 0.0351 - val_loss: 0.0351\n",
      "Epoch 48/50\n",
      "43/43 [==============================] - 0s 5ms/step - loss: 0.0348 - val_loss: 0.0348\n",
      "Epoch 49/50\n",
      "43/43 [==============================] - 0s 5ms/step - loss: 0.0345 - val_loss: 0.0345\n",
      "Epoch 50/50\n",
      "43/43 [==============================] - 0s 5ms/step - loss: 0.0343 - val_loss: 0.0343\n"
     ]
    },
    {
     "data": {
      "text/plain": "<keras.callbacks.History at 0x29884589d80>"
     },
     "execution_count": 25,
     "metadata": {},
     "output_type": "execute_result"
    }
   ],
   "source": [
    "autoencoder.fit(x_train, x_train,\n",
    "                epochs=50,\n",
    "                batch_size=256,\n",
    "                shuffle=True,\n",
    "                validation_data=(x_test, x_test))"
   ],
   "metadata": {
    "collapsed": false,
    "pycharm": {
     "name": "#%%\n"
    }
   }
  },
  {
   "cell_type": "code",
   "execution_count": 26,
   "outputs": [
    {
     "name": "stdout",
     "output_type": "stream",
     "text": [
      "16/16 [==============================] - 0s 2ms/step\n",
      "16/16 [==============================] - 0s 2ms/step\n"
     ]
    }
   ],
   "source": [
    "# Encode and decode some digits\n",
    "# Note that we take them from the *test* set\n",
    "encoded_imgs = encoder.predict(x_test)\n",
    "decoded_imgs = decoder.predict(encoded_imgs)"
   ],
   "metadata": {
    "collapsed": false,
    "pycharm": {
     "name": "#%%\n"
    }
   }
  },
  {
   "cell_type": "code",
   "execution_count": 27,
   "outputs": [
    {
     "data": {
      "text/plain": "<Figure size 2000x400 with 20 Axes>",
      "image/png": "[encoded data removed]"
     },
     "metadata": {},
     "output_type": "display_data"
    }
   ],
   "source": [
    "# Use Matplotlib (don't ask)\n",
    "import matplotlib.pyplot as plt\n",
    "\n",
    "n = 10  # How many digits we will display\n",
    "plt.figure(figsize=(20, 4))\n",
    "for i in range(n):\n",
    "    # Display original\n",
    "    ax = plt.subplot(2, n, i + 1)\n",
    "    plt.imshow(x_test[i].reshape(28, 28))\n",
    "    plt.gray()\n",
    "    ax.get_xaxis().set_visible(False)\n",
    "    ax.get_yaxis().set_visible(False)\n",
    "\n",
    "    # Display reconstruction\n",
    "    ax = plt.subplot(2, n, i + 1 + n)\n",
    "    plt.imshow(decoded_imgs[i].reshape(28, 28))\n",
    "    plt.gray()\n",
    "    ax.get_xaxis().set_visible(False)\n",
    "    ax.get_yaxis().set_visible(False)\n",
    "plt.show()"
   ],
   "metadata": {
    "collapsed": false,
    "pycharm": {
     "name": "#%%\n"
    }
   }
  }
 ],
 "metadata": {
  "kernelspec": {
   "display_name": "Python 3",
   "language": "python",
   "name": "python3"
  },
  "language_info": {
   "codemirror_mode": {
    "name": "ipython",
    "version": 2
   },
   "file_extension": ".py",
   "mimetype": "text/x-python",
   "name": "python",
   "nbconvert_exporter": "python",
   "pygments_lexer": "ipython2",
   "version": "2.7.6"
  }
 },
 "nbformat": 4,
 "nbformat_minor": 0
}