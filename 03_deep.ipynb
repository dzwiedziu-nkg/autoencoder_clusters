{
 "cells": [
  {
   "cell_type": "code",
   "execution_count": 15,
   "outputs": [],
   "source": [
    "import keras\n",
    "from keras import layers\n",
    "from keras import regularizers\n",
    "\n",
    "# This is the size of our encoded representations\n",
    "encoding_dim = 32  # 32 floats -> compression of factor 24.5, assuming the input is 784 floats\n",
    "\n",
    "input_img = keras.Input(shape=(784,))\n",
    "encoded = layers.Dense(128, activation='relu')(input_img)\n",
    "encoded = layers.Dense(64, activation='relu')(encoded)\n",
    "encoded = layers.Dense(32, activation='relu')(encoded)\n",
    "\n",
    "decoded = layers.Dense(64, activation='relu')(encoded)\n",
    "decoded = layers.Dense(128, activation='relu')(decoded)\n",
    "decoded = layers.Dense(784, activation='sigmoid')(decoded)\n",
    "\n",
    "autoencoder = keras.Model(input_img, decoded)"
   ],
   "metadata": {
    "collapsed": false,
    "pycharm": {
     "name": "#%%\n"
    }
   }
  },
  {
   "cell_type": "code",
   "execution_count": 16,
   "outputs": [],
   "source": [
    "# This model maps an input to its encoded representation\n",
    "encoder = keras.Model(input_img, encoded)"
   ],
   "metadata": {
    "collapsed": false,
    "pycharm": {
     "name": "#%%\n"
    }
   }
  },
  {
   "cell_type": "code",
   "execution_count": 17,
   "outputs": [],
   "source": [
    "# This is our encoded (32-dimensional) input\n",
    "encoded_input = keras.Input(shape=(encoding_dim,))\n",
    "# Retrieve the last layer of the autoencoder model\n",
    "decoder1 = autoencoder.layers[-3]\n",
    "decoder2 = autoencoder.layers[-2]\n",
    "decoder3 = autoencoder.layers[-1]\n",
    "# Create the decoder model\n",
    "decoder = keras.Model(encoded_input, decoder3(decoder2(decoder1(encoded_input))))"
   ],
   "metadata": {
    "collapsed": false,
    "pycharm": {
     "name": "#%%\n"
    }
   }
  },
  {
   "cell_type": "code",
   "execution_count": 18,
   "outputs": [],
   "source": [
    "autoencoder.compile(optimizer='adam', loss='binary_crossentropy')"
   ],
   "metadata": {
    "collapsed": false,
    "pycharm": {
     "name": "#%%\n"
    }
   }
  },
  {
   "cell_type": "code",
   "execution_count": 19,
   "outputs": [],
   "source": [
    "from keras.datasets import mnist\n",
    "import numpy as np\n",
    "(x_train, _), (x_test, _) = mnist.load_data()"
   ],
   "metadata": {
    "collapsed": false,
    "pycharm": {
     "name": "#%%\n"
    }
   }
  },
  {
   "cell_type": "code",
   "execution_count": 20,
   "outputs": [
    {
     "name": "stdout",
     "output_type": "stream",
     "text": [
      "(60000, 784)\n",
      "(10000, 784)\n"
     ]
    }
   ],
   "source": [
    "x_train = x_train.astype('float32') / 255.\n",
    "x_test = x_test.astype('float32') / 255.\n",
    "x_train = x_train.reshape((len(x_train), np.prod(x_train.shape[1:])))\n",
    "x_test = x_test.reshape((len(x_test), np.prod(x_test.shape[1:])))\n",
    "print(x_train.shape)\n",
    "print(x_test.shape)"
   ],
   "metadata": {
    "collapsed": false,
    "pycharm": {
     "name": "#%%\n"
    }
   }
  },
  {
   "cell_type": "code",
   "execution_count": 21,
   "outputs": [
    {
     "name": "stdout",
     "output_type": "stream",
     "text": [
      "Epoch 1/100\n",
      "235/235 [==============================] - 4s 11ms/step - loss: 0.2566 - val_loss: 0.1725\n",
      "Epoch 2/100\n",
      "235/235 [==============================] - 2s 10ms/step - loss: 0.1536 - val_loss: 0.1396\n",
      "Epoch 3/100\n",
      "235/235 [==============================] - 2s 10ms/step - loss: 0.1342 - val_loss: 0.1273\n",
      "Epoch 4/100\n",
      "235/235 [==============================] - 2s 10ms/step - loss: 0.1248 - val_loss: 0.1203\n",
      "Epoch 5/100\n",
      "235/235 [==============================] - 3s 13ms/step - loss: 0.1188 - val_loss: 0.1156\n",
      "Epoch 6/100\n",
      "235/235 [==============================] - 3s 12ms/step - loss: 0.1152 - val_loss: 0.1128\n",
      "Epoch 7/100\n",
      "235/235 [==============================] - 3s 11ms/step - loss: 0.1124 - val_loss: 0.1102\n",
      "Epoch 8/100\n",
      "235/235 [==============================] - 3s 12ms/step - loss: 0.1098 - val_loss: 0.1071\n",
      "Epoch 9/100\n",
      "235/235 [==============================] - 3s 11ms/step - loss: 0.1072 - val_loss: 0.1048\n",
      "Epoch 10/100\n",
      "235/235 [==============================] - 3s 12ms/step - loss: 0.1049 - val_loss: 0.1029\n",
      "Epoch 11/100\n",
      "235/235 [==============================] - 3s 12ms/step - loss: 0.1029 - val_loss: 0.1010\n",
      "Epoch 12/100\n",
      "235/235 [==============================] - 3s 11ms/step - loss: 0.1012 - val_loss: 0.0996\n",
      "Epoch 13/100\n",
      "235/235 [==============================] - 3s 12ms/step - loss: 0.0997 - val_loss: 0.0986\n",
      "Epoch 14/100\n",
      "235/235 [==============================] - 3s 12ms/step - loss: 0.0985 - val_loss: 0.0972\n",
      "Epoch 15/100\n",
      "235/235 [==============================] - 3s 14ms/step - loss: 0.0975 - val_loss: 0.0961\n",
      "Epoch 16/100\n",
      "235/235 [==============================] - 2s 10ms/step - loss: 0.0966 - val_loss: 0.0954\n",
      "Epoch 17/100\n",
      "235/235 [==============================] - 2s 10ms/step - loss: 0.0957 - val_loss: 0.0948\n",
      "Epoch 18/100\n",
      "235/235 [==============================] - 2s 11ms/step - loss: 0.0949 - val_loss: 0.0937\n",
      "Epoch 19/100\n",
      "235/235 [==============================] - 3s 11ms/step - loss: 0.0942 - val_loss: 0.0934\n",
      "Epoch 20/100\n",
      "235/235 [==============================] - 2s 11ms/step - loss: 0.0935 - val_loss: 0.0923\n",
      "Epoch 21/100\n",
      "235/235 [==============================] - 2s 10ms/step - loss: 0.0927 - val_loss: 0.0917\n",
      "Epoch 22/100\n",
      "235/235 [==============================] - 3s 11ms/step - loss: 0.0922 - val_loss: 0.0914\n",
      "Epoch 23/100\n",
      "235/235 [==============================] - 3s 11ms/step - loss: 0.0917 - val_loss: 0.0908\n",
      "Epoch 24/100\n",
      "235/235 [==============================] - 3s 12ms/step - loss: 0.0912 - val_loss: 0.0903\n",
      "Epoch 25/100\n",
      "235/235 [==============================] - 3s 11ms/step - loss: 0.0908 - val_loss: 0.0899\n",
      "Epoch 26/100\n",
      "235/235 [==============================] - 3s 11ms/step - loss: 0.0904 - val_loss: 0.0896\n",
      "Epoch 27/100\n",
      "235/235 [==============================] - 3s 11ms/step - loss: 0.0900 - val_loss: 0.0891\n",
      "Epoch 28/100\n",
      "235/235 [==============================] - 3s 11ms/step - loss: 0.0897 - val_loss: 0.0892\n",
      "Epoch 29/100\n",
      "235/235 [==============================] - 3s 11ms/step - loss: 0.0894 - val_loss: 0.0886\n",
      "Epoch 30/100\n",
      "235/235 [==============================] - 2s 11ms/step - loss: 0.0890 - val_loss: 0.0884\n",
      "Epoch 31/100\n",
      "235/235 [==============================] - 3s 11ms/step - loss: 0.0888 - val_loss: 0.0879\n",
      "Epoch 32/100\n",
      "235/235 [==============================] - 3s 11ms/step - loss: 0.0886 - val_loss: 0.0880\n",
      "Epoch 33/100\n",
      "235/235 [==============================] - 3s 11ms/step - loss: 0.0883 - val_loss: 0.0878\n",
      "Epoch 34/100\n",
      "235/235 [==============================] - 2s 10ms/step - loss: 0.0881 - val_loss: 0.0874\n",
      "Epoch 35/100\n",
      "235/235 [==============================] - 3s 11ms/step - loss: 0.0879 - val_loss: 0.0873\n",
      "Epoch 36/100\n",
      "235/235 [==============================] - 3s 11ms/step - loss: 0.0877 - val_loss: 0.0873\n",
      "Epoch 37/100\n",
      "235/235 [==============================] - 3s 11ms/step - loss: 0.0875 - val_loss: 0.0869\n",
      "Epoch 38/100\n",
      "235/235 [==============================] - 3s 11ms/step - loss: 0.0873 - val_loss: 0.0869\n",
      "Epoch 39/100\n",
      "235/235 [==============================] - 3s 11ms/step - loss: 0.0872 - val_loss: 0.0867\n",
      "Epoch 40/100\n",
      "235/235 [==============================] - 3s 11ms/step - loss: 0.0870 - val_loss: 0.0867\n",
      "Epoch 41/100\n",
      "235/235 [==============================] - 3s 11ms/step - loss: 0.0869 - val_loss: 0.0863\n",
      "Epoch 42/100\n",
      "235/235 [==============================] - 2s 11ms/step - loss: 0.0867 - val_loss: 0.0864\n",
      "Epoch 43/100\n",
      "235/235 [==============================] - 3s 11ms/step - loss: 0.0867 - val_loss: 0.0861\n",
      "Epoch 44/100\n",
      "235/235 [==============================] - 3s 11ms/step - loss: 0.0866 - val_loss: 0.0861\n",
      "Epoch 45/100\n",
      "235/235 [==============================] - 3s 11ms/step - loss: 0.0864 - val_loss: 0.0864\n",
      "Epoch 46/100\n",
      "235/235 [==============================] - 3s 11ms/step - loss: 0.0863 - val_loss: 0.0860\n",
      "Epoch 47/100\n",
      "235/235 [==============================] - 3s 11ms/step - loss: 0.0862 - val_loss: 0.0858\n",
      "Epoch 48/100\n",
      "235/235 [==============================] - 3s 11ms/step - loss: 0.0861 - val_loss: 0.0857\n",
      "Epoch 49/100\n",
      "235/235 [==============================] - 3s 11ms/step - loss: 0.0860 - val_loss: 0.0856\n",
      "Epoch 50/100\n",
      "235/235 [==============================] - 3s 11ms/step - loss: 0.0859 - val_loss: 0.0855\n",
      "Epoch 51/100\n",
      "235/235 [==============================] - 3s 11ms/step - loss: 0.0858 - val_loss: 0.0855\n",
      "Epoch 52/100\n",
      "235/235 [==============================] - 3s 11ms/step - loss: 0.0857 - val_loss: 0.0852\n",
      "Epoch 53/100\n",
      "235/235 [==============================] - 3s 11ms/step - loss: 0.0857 - val_loss: 0.0858\n",
      "Epoch 54/100\n",
      "235/235 [==============================] - 3s 11ms/step - loss: 0.0856 - val_loss: 0.0851\n",
      "Epoch 55/100\n",
      "235/235 [==============================] - 3s 11ms/step - loss: 0.0854 - val_loss: 0.0855\n",
      "Epoch 56/100\n",
      "235/235 [==============================] - 3s 11ms/step - loss: 0.0854 - val_loss: 0.0851\n",
      "Epoch 57/100\n",
      "235/235 [==============================] - 3s 11ms/step - loss: 0.0853 - val_loss: 0.0851\n",
      "Epoch 58/100\n",
      "235/235 [==============================] - 3s 11ms/step - loss: 0.0853 - val_loss: 0.0851\n",
      "Epoch 59/100\n",
      "235/235 [==============================] - 3s 11ms/step - loss: 0.0852 - val_loss: 0.0849\n",
      "Epoch 60/100\n",
      "235/235 [==============================] - 3s 12ms/step - loss: 0.0851 - val_loss: 0.0857\n",
      "Epoch 61/100\n",
      "235/235 [==============================] - 3s 11ms/step - loss: 0.0851 - val_loss: 0.0848\n",
      "Epoch 62/100\n",
      "235/235 [==============================] - 3s 11ms/step - loss: 0.0850 - val_loss: 0.0849\n",
      "Epoch 63/100\n",
      "235/235 [==============================] - 3s 11ms/step - loss: 0.0849 - val_loss: 0.0846\n",
      "Epoch 64/100\n",
      "235/235 [==============================] - 2s 11ms/step - loss: 0.0848 - val_loss: 0.0846\n",
      "Epoch 65/100\n",
      "235/235 [==============================] - 3s 11ms/step - loss: 0.0848 - val_loss: 0.0846\n",
      "Epoch 66/100\n",
      "235/235 [==============================] - 3s 12ms/step - loss: 0.0847 - val_loss: 0.0847\n",
      "Epoch 67/100\n",
      "235/235 [==============================] - 2s 10ms/step - loss: 0.0847 - val_loss: 0.0845\n",
      "Epoch 68/100\n",
      "235/235 [==============================] - 2s 10ms/step - loss: 0.0846 - val_loss: 0.0844\n",
      "Epoch 69/100\n",
      "235/235 [==============================] - 2s 10ms/step - loss: 0.0845 - val_loss: 0.0842\n",
      "Epoch 70/100\n",
      "235/235 [==============================] - 3s 12ms/step - loss: 0.0845 - val_loss: 0.0844\n",
      "Epoch 71/100\n",
      "235/235 [==============================] - 3s 11ms/step - loss: 0.0844 - val_loss: 0.0842\n",
      "Epoch 72/100\n",
      "235/235 [==============================] - 3s 11ms/step - loss: 0.0844 - val_loss: 0.0842\n",
      "Epoch 73/100\n",
      "235/235 [==============================] - 3s 11ms/step - loss: 0.0843 - val_loss: 0.0841\n",
      "Epoch 74/100\n",
      "235/235 [==============================] - 3s 11ms/step - loss: 0.0843 - val_loss: 0.0840\n",
      "Epoch 75/100\n",
      "235/235 [==============================] - 3s 11ms/step - loss: 0.0842 - val_loss: 0.0842\n",
      "Epoch 76/100\n",
      "235/235 [==============================] - 3s 11ms/step - loss: 0.0842 - val_loss: 0.0839\n",
      "Epoch 77/100\n",
      "235/235 [==============================] - 3s 11ms/step - loss: 0.0841 - val_loss: 0.0842\n",
      "Epoch 78/100\n",
      "235/235 [==============================] - 3s 11ms/step - loss: 0.0841 - val_loss: 0.0841\n",
      "Epoch 79/100\n",
      "235/235 [==============================] - 3s 11ms/step - loss: 0.0840 - val_loss: 0.0839\n",
      "Epoch 80/100\n",
      "235/235 [==============================] - 3s 11ms/step - loss: 0.0840 - val_loss: 0.0837\n",
      "Epoch 81/100\n",
      "235/235 [==============================] - 3s 11ms/step - loss: 0.0839 - val_loss: 0.0839\n",
      "Epoch 82/100\n",
      "235/235 [==============================] - 2s 11ms/step - loss: 0.0838 - val_loss: 0.0837\n",
      "Epoch 83/100\n",
      "235/235 [==============================] - 3s 11ms/step - loss: 0.0838 - val_loss: 0.0837\n",
      "Epoch 84/100\n",
      "235/235 [==============================] - 3s 11ms/step - loss: 0.0836 - val_loss: 0.0835\n",
      "Epoch 85/100\n",
      "235/235 [==============================] - 3s 11ms/step - loss: 0.0835 - val_loss: 0.0835\n",
      "Epoch 86/100\n",
      "235/235 [==============================] - 3s 11ms/step - loss: 0.0834 - val_loss: 0.0832\n",
      "Epoch 87/100\n",
      "235/235 [==============================] - 3s 11ms/step - loss: 0.0833 - val_loss: 0.0832\n",
      "Epoch 88/100\n",
      "235/235 [==============================] - 3s 11ms/step - loss: 0.0832 - val_loss: 0.0830\n",
      "Epoch 89/100\n",
      "235/235 [==============================] - 3s 11ms/step - loss: 0.0832 - val_loss: 0.0832\n",
      "Epoch 90/100\n",
      "235/235 [==============================] - 3s 11ms/step - loss: 0.0832 - val_loss: 0.0830\n",
      "Epoch 91/100\n",
      "235/235 [==============================] - 3s 11ms/step - loss: 0.0830 - val_loss: 0.0830\n",
      "Epoch 92/100\n",
      "235/235 [==============================] - 3s 11ms/step - loss: 0.0830 - val_loss: 0.0829\n",
      "Epoch 93/100\n",
      "235/235 [==============================] - 3s 11ms/step - loss: 0.0829 - val_loss: 0.0828\n",
      "Epoch 94/100\n",
      "235/235 [==============================] - 3s 11ms/step - loss: 0.0829 - val_loss: 0.0829\n",
      "Epoch 95/100\n",
      "235/235 [==============================] - 3s 11ms/step - loss: 0.0829 - val_loss: 0.0827\n",
      "Epoch 96/100\n",
      "235/235 [==============================] - 3s 11ms/step - loss: 0.0828 - val_loss: 0.0826\n",
      "Epoch 97/100\n",
      "235/235 [==============================] - 3s 11ms/step - loss: 0.0828 - val_loss: 0.0830\n",
      "Epoch 98/100\n",
      "235/235 [==============================] - 3s 11ms/step - loss: 0.0828 - val_loss: 0.0828\n",
      "Epoch 99/100\n",
      "235/235 [==============================] - 3s 11ms/step - loss: 0.0827 - val_loss: 0.0827\n",
      "Epoch 100/100\n",
      "235/235 [==============================] - 3s 11ms/step - loss: 0.0827 - val_loss: 0.0828\n"
     ]
    },
    {
     "data": {
      "text/plain": "<keras.callbacks.History at 0x23ff3d7d2d0>"
     },
     "execution_count": 21,
     "metadata": {},
     "output_type": "execute_result"
    }
   ],
   "source": [
    "autoencoder.fit(x_train, x_train,\n",
    "                epochs=100,\n",
    "                batch_size=256,\n",
    "                shuffle=True,\n",
    "                validation_data=(x_test, x_test))"
   ],
   "metadata": {
    "collapsed": false,
    "pycharm": {
     "name": "#%%\n"
    }
   }
  },
  {
   "cell_type": "code",
   "execution_count": 22,
   "outputs": [
    {
     "name": "stdout",
     "output_type": "stream",
     "text": [
      "313/313 [==============================] - 1s 3ms/step\n",
      "313/313 [==============================] - 1s 3ms/step\n"
     ]
    }
   ],
   "source": [
    "# Encode and decode some digits\n",
    "# Note that we take them from the *test* set\n",
    "encoded_imgs = encoder.predict(x_test)\n",
    "decoded_imgs = decoder.predict(encoded_imgs)"
   ],
   "metadata": {
    "collapsed": false,
    "pycharm": {
     "name": "#%%\n"
    }
   }
  },
  {
   "cell_type": "code",
   "execution_count": 23,
   "outputs": [
    {
     "data": {
      "text/plain": "<Figure size 2000x400 with 20 Axes>",
      "image/png": "[encoded data removed]"
     },
     "metadata": {},
     "output_type": "display_data"
    }
   ],
   "source": [
    "# Use Matplotlib (don't ask)\n",
    "import matplotlib.pyplot as plt\n",
    "\n",
    "n = 10  # How many digits we will display\n",
    "plt.figure(figsize=(20, 4))\n",
    "for i in range(n):\n",
    "    # Display original\n",
    "    ax = plt.subplot(2, n, i + 1)\n",
    "    plt.imshow(x_test[i].reshape(28, 28))\n",
    "    plt.gray()\n",
    "    ax.get_xaxis().set_visible(False)\n",
    "    ax.get_yaxis().set_visible(False)\n",
    "\n",
    "    # Display reconstruction\n",
    "    ax = plt.subplot(2, n, i + 1 + n)\n",
    "    plt.imshow(decoded_imgs[i].reshape(28, 28))\n",
    "    plt.gray()\n",
    "    ax.get_xaxis().set_visible(False)\n",
    "    ax.get_yaxis().set_visible(False)\n",
    "plt.show()"
   ],
   "metadata": {
    "collapsed": false,
    "pycharm": {
     "name": "#%%\n"
    }
   }
  }
 ],
 "metadata": {
  "kernelspec": {
   "display_name": "Python 3",
   "language": "python",
   "name": "python3"
  },
  "language_info": {
   "codemirror_mode": {
    "name": "ipython",
    "version": 2
   },
   "file_extension": ".py",
   "mimetype": "text/x-python",
   "name": "python",
   "nbconvert_exporter": "python",
   "pygments_lexer": "ipython2",
   "version": "2.7.6"
  }
 },
 "nbformat": 4,
 "nbformat_minor": 0
}