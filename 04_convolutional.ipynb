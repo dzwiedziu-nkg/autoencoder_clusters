{
 "cells": [
  {
   "cell_type": "code",
   "execution_count": 1,
   "outputs": [],
   "source": [
    "import keras\n",
    "from keras import layers\n",
    "from matplotlib import pyplot as plt\n",
    "\n",
    "input_img = keras.Input(shape=(28, 28, 1))\n",
    "\n",
    "x = layers.Conv2D(16, (3, 3), activation='relu', padding='same')(input_img)\n",
    "x = layers.MaxPooling2D((2, 2), padding='same')(x)\n",
    "x = layers.Conv2D(8, (3, 3), activation='relu', padding='same')(x)\n",
    "x = layers.MaxPooling2D((2, 2), padding='same')(x)\n",
    "x = layers.Conv2D(8, (3, 3), activation='relu', padding='same')(x)\n",
    "encoded = layers.MaxPooling2D((2, 2), padding='same')(x)\n",
    "\n",
    "# at this point the representation is (4, 4, 8) i.e. 128-dimensional\n",
    "\n",
    "x = layers.Conv2D(8, (3, 3), activation='relu', padding='same')(encoded)\n",
    "x = layers.UpSampling2D((2, 2))(x)\n",
    "x = layers.Conv2D(8, (3, 3), activation='relu', padding='same')(x)\n",
    "x = layers.UpSampling2D((2, 2))(x)\n",
    "x = layers.Conv2D(16, (3, 3), activation='relu')(x)\n",
    "x = layers.UpSampling2D((2, 2))(x)\n",
    "decoded = layers.Conv2D(1, (3, 3), activation='sigmoid', padding='same')(x)\n",
    "\n",
    "autoencoder = keras.Model(input_img, decoded)\n",
    "autoencoder.compile(optimizer='adam', loss='binary_crossentropy')"
   ],
   "metadata": {
    "collapsed": false,
    "pycharm": {
     "name": "#%%\n"
    }
   }
  },
  {
   "cell_type": "code",
   "execution_count": 2,
   "outputs": [],
   "source": [
    "from keras.datasets import mnist\n",
    "import numpy as np\n",
    "\n",
    "(x_train, _), (x_test, _) = mnist.load_data()\n",
    "\n",
    "x_train = x_train.astype('float32') / 255.\n",
    "x_test = x_test.astype('float32') / 255.\n",
    "x_train = np.reshape(x_train, (len(x_train), 28, 28, 1))\n",
    "x_test = np.reshape(x_test, (len(x_test), 28, 28, 1))"
   ],
   "metadata": {
    "collapsed": false,
    "pycharm": {
     "name": "#%%\n"
    }
   }
  },
  {
   "cell_type": "code",
   "execution_count": 3,
   "outputs": [
    {
     "name": "stdout",
     "output_type": "stream",
     "text": [
      "Epoch 1/50\n",
      "469/469 [==============================] - 16s 21ms/step - loss: 0.2198 - val_loss: 0.1421\n",
      "Epoch 2/50\n",
      "469/469 [==============================] - 7s 16ms/step - loss: 0.1334 - val_loss: 0.1252\n",
      "Epoch 3/50\n",
      "469/469 [==============================] - 7s 15ms/step - loss: 0.1222 - val_loss: 0.1176\n",
      "Epoch 4/50\n",
      "469/469 [==============================] - 6s 14ms/step - loss: 0.1162 - val_loss: 0.1129\n",
      "Epoch 5/50\n",
      "469/469 [==============================] - 6s 13ms/step - loss: 0.1122 - val_loss: 0.1094\n",
      "Epoch 6/50\n",
      "469/469 [==============================] - 7s 16ms/step - loss: 0.1095 - val_loss: 0.1072\n",
      "Epoch 7/50\n",
      "469/469 [==============================] - 7s 14ms/step - loss: 0.1074 - val_loss: 0.1051\n",
      "Epoch 8/50\n",
      "469/469 [==============================] - 6s 13ms/step - loss: 0.1059 - val_loss: 0.1041\n",
      "Epoch 9/50\n",
      "469/469 [==============================] - 6s 14ms/step - loss: 0.1045 - val_loss: 0.1026\n",
      "Epoch 10/50\n",
      "469/469 [==============================] - 7s 14ms/step - loss: 0.1034 - val_loss: 0.1022\n",
      "Epoch 11/50\n",
      "469/469 [==============================] - 7s 15ms/step - loss: 0.1024 - val_loss: 0.1008\n",
      "Epoch 12/50\n",
      "469/469 [==============================] - 7s 15ms/step - loss: 0.1016 - val_loss: 0.0998\n",
      "Epoch 13/50\n",
      "469/469 [==============================] - 7s 15ms/step - loss: 0.1008 - val_loss: 0.0991\n",
      "Epoch 14/50\n",
      "469/469 [==============================] - 7s 15ms/step - loss: 0.1002 - val_loss: 0.0985\n",
      "Epoch 15/50\n",
      "469/469 [==============================] - 6s 14ms/step - loss: 0.0996 - val_loss: 0.0987\n",
      "Epoch 16/50\n",
      "469/469 [==============================] - 7s 14ms/step - loss: 0.0990 - val_loss: 0.0973\n",
      "Epoch 17/50\n",
      "469/469 [==============================] - 7s 15ms/step - loss: 0.0986 - val_loss: 0.0971\n",
      "Epoch 18/50\n",
      "469/469 [==============================] - 9s 18ms/step - loss: 0.0981 - val_loss: 0.0973\n",
      "Epoch 19/50\n",
      "469/469 [==============================] - 7s 16ms/step - loss: 0.0977 - val_loss: 0.0961\n",
      "Epoch 20/50\n",
      "469/469 [==============================] - 9s 20ms/step - loss: 0.0973 - val_loss: 0.0964\n",
      "Epoch 21/50\n",
      "469/469 [==============================] - 7s 14ms/step - loss: 0.0970 - val_loss: 0.0956\n",
      "Epoch 22/50\n",
      "469/469 [==============================] - 6s 12ms/step - loss: 0.0966 - val_loss: 0.0953\n",
      "Epoch 23/50\n",
      "469/469 [==============================] - 6s 13ms/step - loss: 0.0963 - val_loss: 0.0948\n",
      "Epoch 24/50\n",
      "469/469 [==============================] - 6s 13ms/step - loss: 0.0960 - val_loss: 0.0947\n",
      "Epoch 25/50\n",
      "469/469 [==============================] - 6s 13ms/step - loss: 0.0956 - val_loss: 0.0942\n",
      "Epoch 26/50\n",
      "469/469 [==============================] - 6s 13ms/step - loss: 0.0954 - val_loss: 0.0943\n",
      "Epoch 27/50\n",
      "469/469 [==============================] - 7s 14ms/step - loss: 0.0952 - val_loss: 0.0937\n",
      "Epoch 28/50\n",
      "469/469 [==============================] - 6s 13ms/step - loss: 0.0948 - val_loss: 0.0935\n",
      "Epoch 29/50\n",
      "469/469 [==============================] - 6s 13ms/step - loss: 0.0946 - val_loss: 0.0932\n",
      "Epoch 30/50\n",
      "469/469 [==============================] - 6s 13ms/step - loss: 0.0943 - val_loss: 0.0931\n",
      "Epoch 31/50\n",
      "469/469 [==============================] - 6s 13ms/step - loss: 0.0941 - val_loss: 0.0928\n",
      "Epoch 32/50\n",
      "469/469 [==============================] - 6s 13ms/step - loss: 0.0939 - val_loss: 0.0934\n",
      "Epoch 33/50\n",
      "469/469 [==============================] - 6s 13ms/step - loss: 0.0937 - val_loss: 0.0929\n",
      "Epoch 34/50\n",
      "469/469 [==============================] - 8s 16ms/step - loss: 0.0934 - val_loss: 0.0921\n",
      "Epoch 35/50\n",
      "469/469 [==============================] - 9s 20ms/step - loss: 0.0933 - val_loss: 0.0919\n",
      "Epoch 36/50\n",
      "469/469 [==============================] - 9s 19ms/step - loss: 0.0931 - val_loss: 0.0920\n",
      "Epoch 37/50\n",
      "469/469 [==============================] - 9s 18ms/step - loss: 0.0929 - val_loss: 0.0915\n",
      "Epoch 38/50\n",
      "469/469 [==============================] - 6s 13ms/step - loss: 0.0927 - val_loss: 0.0912\n",
      "Epoch 39/50\n",
      "469/469 [==============================] - 6s 13ms/step - loss: 0.0926 - val_loss: 0.0911\n",
      "Epoch 40/50\n",
      "469/469 [==============================] - 8s 17ms/step - loss: 0.0924 - val_loss: 0.0910\n",
      "Epoch 41/50\n",
      "469/469 [==============================] - 9s 20ms/step - loss: 0.0922 - val_loss: 0.0908\n",
      "Epoch 42/50\n",
      "469/469 [==============================] - 7s 16ms/step - loss: 0.0920 - val_loss: 0.0909\n",
      "Epoch 43/50\n",
      "469/469 [==============================] - 6s 14ms/step - loss: 0.0919 - val_loss: 0.0906\n",
      "Epoch 44/50\n",
      "469/469 [==============================] - 6s 14ms/step - loss: 0.0917 - val_loss: 0.0903\n",
      "Epoch 45/50\n",
      "469/469 [==============================] - 6s 13ms/step - loss: 0.0916 - val_loss: 0.0907\n",
      "Epoch 46/50\n",
      "469/469 [==============================] - 7s 16ms/step - loss: 0.0915 - val_loss: 0.0900\n",
      "Epoch 47/50\n",
      "469/469 [==============================] - 9s 20ms/step - loss: 0.0913 - val_loss: 0.0900\n",
      "Epoch 48/50\n",
      "469/469 [==============================] - 8s 18ms/step - loss: 0.0912 - val_loss: 0.0897\n",
      "Epoch 49/50\n",
      "469/469 [==============================] - 6s 13ms/step - loss: 0.0910 - val_loss: 0.0897\n",
      "Epoch 50/50\n",
      "469/469 [==============================] - 6s 12ms/step - loss: 0.0909 - val_loss: 0.0895\n"
     ]
    },
    {
     "data": {
      "text/plain": "<keras.callbacks.History at 0x1d657041c90>"
     },
     "execution_count": 3,
     "metadata": {},
     "output_type": "execute_result"
    }
   ],
   "source": [
    "from keras.callbacks import TensorBoard\n",
    "\n",
    "autoencoder.fit(x_train, x_train,\n",
    "                epochs=50,\n",
    "                batch_size=128,\n",
    "                shuffle=True,\n",
    "                validation_data=(x_test, x_test),\n",
    "                callbacks=[TensorBoard(log_dir='/tmp/autoencoder')])"
   ],
   "metadata": {
    "collapsed": false,
    "pycharm": {
     "name": "#%%\n"
    }
   }
  },
  {
   "cell_type": "code",
   "execution_count": 4,
   "outputs": [
    {
     "name": "stdout",
     "output_type": "stream",
     "text": [
      "313/313 [==============================] - 2s 5ms/step\n"
     ]
    },
    {
     "data": {
      "text/plain": "<Figure size 2000x400 with 20 Axes>",
      "image/png": "[encoded data removed]"
     },
     "metadata": {},
     "output_type": "display_data"
    }
   ],
   "source": [
    "decoded_imgs = autoencoder.predict(x_test)\n",
    "\n",
    "n = 10\n",
    "plt.figure(figsize=(20, 4))\n",
    "for i in range(1, n + 1):\n",
    "    # Display original\n",
    "    ax = plt.subplot(2, n, i)\n",
    "    plt.imshow(x_test[i].reshape(28, 28))\n",
    "    plt.gray()\n",
    "    ax.get_xaxis().set_visible(False)\n",
    "    ax.get_yaxis().set_visible(False)\n",
    "\n",
    "    # Display reconstruction\n",
    "    ax = plt.subplot(2, n, i + n)\n",
    "    plt.imshow(decoded_imgs[i].reshape(28, 28))\n",
    "    plt.gray()\n",
    "    ax.get_xaxis().set_visible(False)\n",
    "    ax.get_yaxis().set_visible(False)\n",
    "plt.show()"
   ],
   "metadata": {
    "collapsed": false,
    "pycharm": {
     "name": "#%%\n"
    }
   }
  },
  {
   "cell_type": "code",
   "execution_count": 5,
   "outputs": [
    {
     "name": "stdout",
     "output_type": "stream",
     "text": [
      "313/313 [==============================] - 1s 3ms/step\n"
     ]
    },
    {
     "data": {
      "text/plain": "<Figure size 2000x800 with 10 Axes>",
      "image/png": "[encoded data removed]"
     },
     "metadata": {},
     "output_type": "display_data"
    }
   ],
   "source": [
    "encoder = keras.Model(input_img, encoded)\n",
    "encoded_imgs = encoder.predict(x_test)\n",
    "\n",
    "n = 10\n",
    "plt.figure(figsize=(20, 8))\n",
    "for i in range(1, n + 1):\n",
    "    ax = plt.subplot(1, n, i)\n",
    "    plt.imshow(encoded_imgs[i].reshape((4, 4 * 8)).T)\n",
    "    plt.gray()\n",
    "    ax.get_xaxis().set_visible(False)\n",
    "    ax.get_yaxis().set_visible(False)\n",
    "plt.show()"
   ],
   "metadata": {
    "collapsed": false,
    "pycharm": {
     "name": "#%%\n"
    }
   }
  }
 ],
 "metadata": {
  "kernelspec": {
   "display_name": "Python 3",
   "language": "python",
   "name": "python3"
  },
  "language_info": {
   "codemirror_mode": {
    "name": "ipython",
    "version": 2
   },
   "file_extension": ".py",
   "mimetype": "text/x-python",
   "name": "python",
   "nbconvert_exporter": "python",
   "pygments_lexer": "ipython2",
   "version": "2.7.6"
  }
 },
 "nbformat": 4,
 "nbformat_minor": 0
}